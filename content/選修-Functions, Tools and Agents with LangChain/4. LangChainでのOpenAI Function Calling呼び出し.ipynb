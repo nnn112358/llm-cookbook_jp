{
 "cells": [
  {
   "cell_type": "markdown",
   "id": "46f5f5b2-f7f9-415f-8049-3e2f66d38195",
   "metadata": {
    "tags": []
   },
   "source": [
    "# 第四章 在 LangChain 中调用 OpenAI Function Calling\n",
    "\n",
    " - [一、设置OpenAI API Key](#一、设置OpenAI-API-Key)\n",
    " - [二、Pydantic语法](#二、Pydantic语法)\n",
    "     - [2.1 简单创建Python类](#2.1-简单创建Python类)\n",
    "     - [2.2 使用Pydantic创建类](#2.2-使用Pydantic创建类)\n",
    " - [三、 基于Pydantic的OpenAI函数定义](#三、基于Pydantic的OpenAI函数定义)\n",
    "     - [3.1 构造OpenAI的function](#3.1-构造OpenAI的function)\n",
    "     - [3.2 通过langchain使用function](#3.2-通过langchain使用function)\n",
    "     - [3.3 强制使用function](#3.3-强制使用function)\n",
    " - [四、使用function](#四、使用function)\n",
    "     - [4.1 链式使用](#3.1-链式使用)\n",
    "     - [4.2 使用多个function](#4.2-使用多个function)"
   ]
  },
  {
   "cell_type": "markdown",
   "id": "b973da31-885c-48a6-9dc8-92fb0a217681",
   "metadata": {},
   "source": [
    "为了大家实验方便，关于以下示例，我们将使用硅基流动的API，于是相关的代码也会修改。"
   ]
  },
  {
   "cell_type": "markdown",
   "id": "1eb87015",
   "metadata": {},
   "source": [
    "# 一、设置OpenAI-API-Key\n",
    "\n",
    "详细内容见`设置OpenAI_API_KEY.ipynb`文件"
   ]
  },
  {
   "cell_type": "markdown",
   "id": "2ea4686a",
   "metadata": {},
   "source": [
    "# 二、Pydantic语法"
   ]
  },
  {
   "cell_type": "markdown",
   "id": "46645a3f",
   "metadata": {},
   "source": [
    "Pydantic 是 python 的“数据验证库”。\n",
    "- 与 python 类型注释一起工作。但是，与静态类型检查不同，它们在运行时被积极地用于数据验证和转换。\n",
    "- 提供内置方法来序列化/反序列化模型到 JSON ，字典等。\n",
    "- LangChain 利用 Pydantic 创建 JsONScheme 描述函数。"
   ]
  },
  {
   "cell_type": "markdown",
   "id": "56cbff25",
   "metadata": {},
   "source": [
    "## 2.1 简单创建Python类"
   ]
  },
  {
   "cell_type": "markdown",
   "id": "188a17b3",
   "metadata": {},
   "source": [
    "在标准python中，可以创建一个`User`类，拥有`name`、`age`、`email`三种属性值。直接进行创建，不能对字段类型进行约束，即年龄中可能传入不合规的字符串类型。"
   ]
  },
  {
   "cell_type": "code",
   "execution_count": 1,
   "id": "3ae8e977",
   "metadata": {},
   "outputs": [],
   "source": [
    "from typing import List\n",
    "from pydantic import BaseModel, Field"
   ]
  },
  {
   "cell_type": "code",
   "execution_count": 2,
   "id": "d9447a47",
   "metadata": {},
   "outputs": [],
   "source": [
    "# 创建User类\n",
    "class User:\n",
    "    def __init__(self, name: str, age: int, email: str):\n",
    "        self.name = name\n",
    "        self.age = age\n",
    "        self.email = email"
   ]
  },
  {
   "cell_type": "code",
   "execution_count": 3,
   "id": "e765e2b5",
   "metadata": {},
   "outputs": [
    {
     "name": "stdout",
     "output_type": "stream",
     "text": [
      "Joe\n"
     ]
    }
   ],
   "source": [
    "# 生成user对象\n",
    "foo = User(name=\"Joe\",age=32, email=\"joe@gmail.com\")\n",
    "\n",
    "# 输出foo中 name字段\n",
    "print(foo.name)"
   ]
  },
  {
   "cell_type": "code",
   "execution_count": 4,
   "id": "aa33be60",
   "metadata": {},
   "outputs": [
    {
     "name": "stdout",
     "output_type": "stream",
     "text": [
      "bar\n"
     ]
    }
   ],
   "source": [
    "# 生成user对象\n",
    "foo = User(name=\"Joe\",age=\"bar\", email=\"joe@gmail.com\")\n",
    "\n",
    "# 输出foo中 name字段\n",
    "# name字段填写的是字符串类型，但能够创建成功并输出\n",
    "print(foo.age)"
   ]
  },
  {
   "cell_type": "markdown",
   "id": "ccbfc8d5",
   "metadata": {},
   "source": [
    "## 2.2 使用 Pydantic 创建类"
   ]
  },
  {
   "cell_type": "markdown",
   "id": "80a59b93",
   "metadata": {},
   "source": [
    "使用 Pydantic 创建类，可以对类的属性值进行格式约束。在创建类的时候会进行格式验证，如果格式不符合要求会报错。"
   ]
  },
  {
   "cell_type": "code",
   "execution_count": 5,
   "id": "49675d39",
   "metadata": {},
   "outputs": [],
   "source": [
    "# 使用 Pydantic创建pUser类别，说明age使用int类型\n",
    "class pUser(BaseModel):\n",
    "    name: str\n",
    "    age: int\n",
    "    email: str"
   ]
  },
  {
   "cell_type": "code",
   "execution_count": 6,
   "id": "825b261e",
   "metadata": {},
   "outputs": [
    {
     "name": "stdout",
     "output_type": "stream",
     "text": [
      "Jane\n"
     ]
    }
   ],
   "source": [
    "# 生成user对象\n",
    "foo_p = pUser(name=\"Jane\", age=32, email=\"jane@gmail.com\")\n",
    "\n",
    "# 输出foo中 name字段\n",
    "print(foo_p.name)"
   ]
  },
  {
   "cell_type": "code",
   "execution_count": 7,
   "id": "41a635f8",
   "metadata": {},
   "outputs": [
    {
     "name": "stdout",
     "output_type": "stream",
     "text": [
      "1 validation error for pUser\n",
      "age\n",
      "  Input should be a valid integer, unable to parse string as an integer [type=int_parsing, input_value='bar', input_type=str]\n",
      "    For further information visit https://errors.pydantic.dev/2.11/v/int_parsing\n"
     ]
    }
   ],
   "source": [
    "# 使用了pydantic，由于age不是int，因此会报错。输出报错内容\n",
    "try:\n",
    "    foo_p = pUser(name=\"Jane\", age=\"bar\", email=\"jane@gmail.com\")\n",
    "except Exception as e:\n",
    "    print(e)"
   ]
  },
  {
   "cell_type": "code",
   "execution_count": 8,
   "id": "1e7ec9aa",
   "metadata": {},
   "outputs": [],
   "source": [
    "class Class(BaseModel):\n",
    "    students: List[pUser]"
   ]
  },
  {
   "cell_type": "code",
   "execution_count": 9,
   "id": "3206e1fb",
   "metadata": {},
   "outputs": [
    {
     "data": {
      "text/plain": [
       "Class(students=[pUser(name='Jane', age=32, email='jane@gmail.com')])"
      ]
     },
     "execution_count": 9,
     "metadata": {},
     "output_type": "execute_result"
    }
   ],
   "source": [
    "obj = Class(\n",
    "    students=[pUser(name=\"Jane\", age=32, email=\"jane@gmail.com\")]\n",
    ")\n",
    "obj"
   ]
  },
  {
   "cell_type": "markdown",
   "id": "f956e561",
   "metadata": {},
   "source": [
    "# 三、基于Pydantic的OpenAI函数定义"
   ]
  },
  {
   "cell_type": "markdown",
   "id": "06f67f9a",
   "metadata": {},
   "source": [
    "## 3.1 构造 OpenAI 的 function"
   ]
  },
  {
   "cell_type": "markdown",
   "id": "8765afc9",
   "metadata": {},
   "source": [
    "我们创建了一个`WeatherSearch`类，它继承自 Pydantic 的 BaseModel 子类.因此`WeatherSearch`类的所有成员都被具备了数据类型校验机制，该类有一个str类型的成员`airport_code`表示机场代码，并有一个描述信息description，用来说明 airport_code 的作用，在 airport_code 的上方也有一段文本描述信息：输入机场代码，获取该机场的天气信息。这段文本信息是对类`WeatherSearch`的说明，意思是通过机场代码可以查询天气情况。\n",
    "\n",
    "同时，我们使用 langchain 将这个`WeatherSearch`类转换成openai的函数描述对象："
   ]
  },
  {
   "cell_type": "code",
   "execution_count": 10,
   "id": "8886dc0b",
   "metadata": {},
   "outputs": [],
   "source": [
    "# 定义WeatherSearch\n",
    "# WeatherSearch的function需要写注释完成函数的description\n",
    "class WeatherSearch(BaseModel):\n",
    "    \"\"\"输入机场代码，获取该机场的天气信息\"\"\"\n",
    "    airport_code: str = Field(description=\"输入机场代码查询天气\")"
   ]
  },
  {
   "cell_type": "code",
   "execution_count": 13,
   "id": "26e7e42f",
   "metadata": {},
   "outputs": [],
   "source": [
    "# 导入langchain\n",
    "from langchain_core.utils.function_calling import convert_to_openai_function"
   ]
  },
  {
   "cell_type": "code",
   "execution_count": 14,
   "id": "104b30c3",
   "metadata": {},
   "outputs": [
    {
     "data": {
      "text/plain": [
       "{'name': 'WeatherSearch',\n",
       " 'description': '输入机场代码，获取该机场的天气信息',\n",
       " 'parameters': {'properties': {'airport_code': {'description': '输入机场代码查询天气',\n",
       "    'type': 'string'}},\n",
       "  'required': ['airport_code'],\n",
       "  'type': 'object'}}"
      ]
     },
     "execution_count": 14,
     "metadata": {},
     "output_type": "execute_result"
    }
   ],
   "source": [
    "# 转化为openai function calling模式\n",
    "weather_function = convert_to_openai_function(WeatherSearch)\n",
    "weather_function"
   ]
  },
  {
   "cell_type": "markdown",
   "id": "fbd9fa5c",
   "metadata": {},
   "source": [
    "\n",
    "\n",
    "接下来，使用 langchain 的`convert_pydantic_to_openai_function`方法将 Pydantic 类转换成了 openai 的函数描述对象。需要的注意的是在定义Pydantic类时文本描述信息不可缺少，如缺少文本描述信息会导致转换时出错。\n",
    "\n",
    "- `WeatherSearch1`，由于我们没有在`WeatherSearch1`中加入对本身的描述信息，导致在转换时报错。\n",
    "- `WeatherSearch2`加入对本身的描述信息，因此不会报错。"
   ]
  },
  {
   "cell_type": "code",
   "execution_count": 16,
   "id": "aa2584c8",
   "metadata": {},
   "outputs": [
    {
     "data": {
      "text/plain": [
       "{'name': 'WeatherSearch1',\n",
       " 'description': '',\n",
       " 'parameters': {'properties': {'airport_code': {'description': '输入机场代码查询天气',\n",
       "    'type': 'string'}},\n",
       "  'required': ['airport_code'],\n",
       "  'type': 'object'}}"
      ]
     },
     "execution_count": 16,
     "metadata": {},
     "output_type": "execute_result"
    }
   ],
   "source": [
    "# WeatherSearch1没有写注释，会报错\n",
    "class WeatherSearch1(BaseModel):\n",
    "    airport_code: str = Field(description=\"输入机场代码查询天气\")\n",
    "\n",
    "convert_to_openai_function(WeatherSearch1)"
   ]
  },
  {
   "cell_type": "code",
   "execution_count": 17,
   "id": "92e371eb",
   "metadata": {},
   "outputs": [],
   "source": [
    "# 构造WeatherSearch2，不对参数注释\n",
    "class WeatherSearch2(BaseModel):\n",
    "    \"\"\"输入机场代码，获取该机场的天气信息\"\"\"\n",
    "    airport_code: str"
   ]
  },
  {
   "cell_type": "code",
   "execution_count": 18,
   "id": "b710902b",
   "metadata": {},
   "outputs": [
    {
     "data": {
      "text/plain": [
       "{'name': 'WeatherSearch2',\n",
       " 'description': '输入机场代码，获取该机场的天气信息',\n",
       " 'parameters': {'properties': {'airport_code': {'type': 'string'}},\n",
       "  'required': ['airport_code'],\n",
       "  'type': 'object'}}"
      ]
     },
     "execution_count": 18,
     "metadata": {},
     "output_type": "execute_result"
    }
   ],
   "source": [
    "convert_to_openai_function(WeatherSearch2)"
   ]
  },
  {
   "cell_type": "markdown",
   "id": "35ff3121",
   "metadata": {},
   "source": [
    "## 3.2 通过langchain使用function"
   ]
  },
  {
   "cell_type": "markdown",
   "id": "0792e86e",
   "metadata": {},
   "source": [
    "为了实现 LLM 对 function 的调用，有一下两种方式\n",
    "\n",
    "- 在`invoke`中指定 functions\n",
    "- 执行`invoke`之前使用`bind`方法来绑定函数描述对象"
   ]
  },
  {
   "cell_type": "code",
   "execution_count": 22,
   "id": "060e6c8d-142f-4813-ab27-cb320898b461",
   "metadata": {},
   "outputs": [],
   "source": [
    "import os\n",
    "\n",
    "from dotenv import load_dotenv, find_dotenv\n",
    "from langchain_openai import OpenAIEmbeddings\n",
    "from langchain_openai.chat_models import ChatOpenAI\n",
    "\n",
    "loaded = load_dotenv(find_dotenv(), override=True)\n",
    "# 从环境变量中获取 OpenAI API Key 或者直接赋值\n",
    "API_KEY = os.getenv(\"API_KEY\")\n",
    "\n",
    "# 如果您使用的是官方 API，就直接用 https://api.siliconflow.cn/v1 就行。\n",
    "BASE_URL = \"https://api.siliconflow.cn/v1\""
   ]
  },
  {
   "cell_type": "code",
   "execution_count": 23,
   "id": "f8ed0850",
   "metadata": {},
   "outputs": [],
   "source": [
    "model = ChatOpenAI(temperature=0, model_name=\"Qwen/Qwen3-8B\", max_tokens=4096,\n",
    "                        openai_api_key=API_KEY, openai_api_base=BASE_URL, max_retries=3,\n",
    "                        seed=42, presence_penalty=0.1, frequency_penalty=0.1,\n",
    "                        extra_body={\n",
    "                            \"enable_thinking\": False\n",
    "                        }\n",
    "                        )"
   ]
  },
  {
   "cell_type": "code",
   "execution_count": 25,
   "id": "550029a0",
   "metadata": {},
   "outputs": [
    {
     "data": {
      "text/plain": [
       "AIMessage(content='', additional_kwargs={'tool_calls': [{'id': '01975f2d0a1004306ca3311d0e6fee4d', 'function': {'arguments': ' {\"airport_code\": \"SFO\"}', 'name': 'WeatherSearch'}, 'type': 'function', 'index': 0}], 'refusal': None}, response_metadata={'token_usage': {'completion_tokens': 9, 'prompt_tokens': 177, 'total_tokens': 186, 'completion_tokens_details': None, 'prompt_tokens_details': None}, 'model_name': 'Qwen/Qwen3-8B', 'system_fingerprint': '', 'id': '01975f2d094af8bf93b2ad68d8b8e316', 'service_tier': None, 'finish_reason': 'tool_calls', 'logprobs': None}, id='run--f2c0d36a-fdde-4a51-9c89-94d59fa29529-0', tool_calls=[{'name': 'WeatherSearch', 'args': {'airport_code': 'SFO'}, 'id': '01975f2d0a1004306ca3311d0e6fee4d', 'type': 'tool_call'}], usage_metadata={'input_tokens': 177, 'output_tokens': 9, 'total_tokens': 186, 'input_token_details': {}, 'output_token_details': {}})"
      ]
     },
     "execution_count": 25,
     "metadata": {},
     "output_type": "execute_result"
    }
   ],
   "source": [
    "# 在invoke中使用openai function功能\n",
    "\n",
    "tools = [\n",
    "    {\n",
    "        \"type\": \"function\",\n",
    "        \"function\": weather_function\n",
    "    }\n",
    "]\n",
    "\n",
    "model.invoke(\"今天旧金山的天气怎么样？\", tools=tools)"
   ]
  },
  {
   "cell_type": "code",
   "execution_count": 26,
   "id": "458e21ec",
   "metadata": {},
   "outputs": [
    {
     "data": {
      "text/plain": [
       "AIMessage(content='', additional_kwargs={'tool_calls': [{'id': '01975f2d3e53d6105e3f2634b5646b3a', 'function': {'arguments': ' {\"airport_code\": \"SFO\"}', 'name': 'WeatherSearch'}, 'type': 'function', 'index': 0}], 'refusal': None}, response_metadata={'token_usage': {'completion_tokens': 9, 'prompt_tokens': 177, 'total_tokens': 186, 'completion_tokens_details': None, 'prompt_tokens_details': None}, 'model_name': 'Qwen/Qwen3-8B', 'system_fingerprint': '', 'id': '01975f2d3d0e7ff69157e88c9093f187', 'service_tier': None, 'finish_reason': 'tool_calls', 'logprobs': None}, id='run--2aebffe0-625a-4993-a0e8-ffbc39790c1f-0', tool_calls=[{'name': 'WeatherSearch', 'args': {'airport_code': 'SFO'}, 'id': '01975f2d3e53d6105e3f2634b5646b3a', 'type': 'tool_call'}], usage_metadata={'input_tokens': 177, 'output_tokens': 9, 'total_tokens': 186, 'input_token_details': {}, 'output_token_details': {}})"
      ]
     },
     "execution_count": 26,
     "metadata": {},
     "output_type": "execute_result"
    }
   ],
   "source": [
    "# 直接在构造模型中声明functions，对话时不需要在声明\n",
    "model_with_function = model.bind(tools=tools)\n",
    "model_with_function.invoke(\"今天旧金山的天气怎么样？\")"
   ]
  },
  {
   "cell_type": "markdown",
   "id": "3c6f6aed",
   "metadata": {},
   "source": [
    "## 3.3 强制使用function"
   ]
  },
  {
   "cell_type": "markdown",
   "id": "9dfdcad6",
   "metadata": {},
   "source": [
    "如果想要强制使用 function，需要在`bind`中增加`function_call`参数。"
   ]
  },
  {
   "cell_type": "code",
   "execution_count": 29,
   "id": "ddc08c4f",
   "metadata": {},
   "outputs": [],
   "source": [
    "# 强制使用function，在模型构建时声明function_call\n",
    "tool_choice={\n",
    "    \"type\": \"function\",\n",
    "    \"function\": {\n",
    "     \"name\": \"WeatherSearch\"\n",
    "    }\n",
    "}\n",
    "\n",
    "model_with_forced_function = model.bind(tools=tools, tool_choice=tool_choice)"
   ]
  },
  {
   "cell_type": "code",
   "execution_count": 30,
   "id": "11bb59da",
   "metadata": {},
   "outputs": [
    {
     "data": {
      "text/plain": [
       "AIMessage(content='', additional_kwargs={'tool_calls': [{'id': '01975f3033b2983a089d8a76792b2350', 'function': {'arguments': '<tool_call>\\n{\"airport_code\": \"SFO\"}', 'name': 'WeatherSearch'}, 'type': 'function', 'index': 0}], 'refusal': None}, response_metadata={'token_usage': {'completion_tokens': 10, 'prompt_tokens': 176, 'total_tokens': 186, 'completion_tokens_details': None, 'prompt_tokens_details': None}, 'model_name': 'Qwen/Qwen3-8B', 'system_fingerprint': '', 'id': '01975f3032a0567e660eb97a86eb7c57', 'service_tier': None, 'finish_reason': 'tool_calls', 'logprobs': None}, id='run--88d6461f-f6db-4f33-a470-63c3e3bf0635-0', invalid_tool_calls=[{'name': 'WeatherSearch', 'args': '<tool_call>\\n{\"airport_code\": \"SFO\"}', 'id': '01975f3033b2983a089d8a76792b2350', 'error': 'Function WeatherSearch arguments:\\n\\n<tool_call>\\n{\"airport_code\": \"SFO\"}\\n\\nare not valid JSON. Received JSONDecodeError Expecting value: line 1 column 1 (char 0)\\nFor troubleshooting, visit: https://python.langchain.com/docs/troubleshooting/errors/OUTPUT_PARSING_FAILURE ', 'type': 'invalid_tool_call'}], usage_metadata={'input_tokens': 176, 'output_tokens': 10, 'total_tokens': 186, 'input_token_details': {}, 'output_token_details': {}})"
      ]
     },
     "execution_count": 30,
     "metadata": {},
     "output_type": "execute_result"
    }
   ],
   "source": [
    "# 基于已经声明的function对话，能够调用function\n",
    "model_with_forced_function.invoke(\"旧金山的天气怎么样？\")"
   ]
  },
  {
   "cell_type": "code",
   "execution_count": 34,
   "id": "fcce9a68",
   "metadata": {},
   "outputs": [
    {
     "data": {
      "text/plain": [
       "AIMessage(content='', additional_kwargs={'tool_calls': [{'id': '01975f3078f82fa453ce958703094f94', 'function': {'arguments': '你好！有什么我可以帮助你的吗？', 'name': 'WeatherSearch'}, 'type': 'function', 'index': 0}], 'refusal': None}, response_metadata={'token_usage': {'completion_tokens': 8, 'prompt_tokens': 172, 'total_tokens': 180, 'completion_tokens_details': None, 'prompt_tokens_details': None}, 'model_name': 'Qwen/Qwen3-8B', 'system_fingerprint': '', 'id': '01975f3078036256513daf5e13f0ed7c', 'service_tier': None, 'finish_reason': 'tool_calls', 'logprobs': None}, id='run--22d39a08-b383-4eef-b7f5-3d213c2bdb8d-0', invalid_tool_calls=[{'name': 'WeatherSearch', 'args': '你好！有什么我可以帮助你的吗？', 'id': '01975f3078f82fa453ce958703094f94', 'error': 'Function WeatherSearch arguments:\\n\\n你好！有什么我可以帮助你的吗？\\n\\nare not valid JSON. Received JSONDecodeError Expecting value: line 1 column 1 (char 0)\\nFor troubleshooting, visit: https://python.langchain.com/docs/troubleshooting/errors/OUTPUT_PARSING_FAILURE ', 'type': 'invalid_tool_call'}], usage_metadata={'input_tokens': 172, 'output_tokens': 8, 'total_tokens': 180, 'input_token_details': {}, 'output_token_details': {}})"
      ]
     },
     "execution_count": 34,
     "metadata": {},
     "output_type": "execute_result"
    }
   ],
   "source": [
    "# 输入hi，强制使用function的模型，即使prompt与函数description无关也会命中\n",
    "model_with_forced_function.invoke(\"你好!\")"
   ]
  },
  {
   "cell_type": "code",
   "execution_count": 35,
   "id": "3f805a67",
   "metadata": {},
   "outputs": [
    {
     "data": {
      "text/plain": [
       "AIMessage(content='你好！有什么我可以帮助你的吗？', additional_kwargs={'refusal': None}, response_metadata={'token_usage': {'completion_tokens': 8, 'prompt_tokens': 172, 'total_tokens': 180, 'completion_tokens_details': None, 'prompt_tokens_details': None}, 'model_name': 'Qwen/Qwen3-8B', 'system_fingerprint': '', 'id': '01975f30ad2543bf9db7a04b16d74400', 'service_tier': None, 'finish_reason': 'stop', 'logprobs': None}, id='run--a05208f0-831b-4a73-be05-6e97d48b8f60-0', usage_metadata={'input_tokens': 172, 'output_tokens': 8, 'total_tokens': 180, 'input_token_details': {}, 'output_token_details': {}})"
      ]
     },
     "execution_count": 35,
     "metadata": {},
     "output_type": "execute_result"
    }
   ],
   "source": [
    "# 输入hi，未强制使用function的模型，prompt与函数description无关不会命中\n",
    "model_with_function.invoke(\"你好!\")"
   ]
  },
  {
   "cell_type": "markdown",
   "id": "e8c131cf",
   "metadata": {},
   "source": [
    "# 四、使用function"
   ]
  },
  {
   "cell_type": "markdown",
   "id": "6002ec0d",
   "metadata": {},
   "source": [
    "在一般情况下我们会使用 chain 来实现整个问答的流程，接下来我们通过创建 chain 来实现函数调用功能"
   ]
  },
  {
   "cell_type": "markdown",
   "id": "43f0e6d4",
   "metadata": {},
   "source": [
    "## 4.1 链式使用"
   ]
  },
  {
   "cell_type": "code",
   "execution_count": 36,
   "id": "3d7d7b66",
   "metadata": {},
   "outputs": [],
   "source": [
    "# 引入需要的环境\n",
    "from langchain.prompts import ChatPromptTemplate"
   ]
  },
  {
   "cell_type": "code",
   "execution_count": 37,
   "id": "17df129f",
   "metadata": {},
   "outputs": [],
   "source": [
    "# 使用预定义模版创建聊天代码\n",
    "prompt = ChatPromptTemplate.from_messages([\n",
    "    (\"system\", \"你是一个乐于助人的助手\"),\n",
    "    (\"user\", \"{input}\")\n",
    "])"
   ]
  },
  {
   "cell_type": "code",
   "execution_count": 38,
   "id": "c70e2192",
   "metadata": {},
   "outputs": [],
   "source": [
    "# 使用prompt + model_with_function 组合\n",
    "chain = prompt | model_with_function"
   ]
  },
  {
   "cell_type": "code",
   "execution_count": 39,
   "id": "9d5c71f9",
   "metadata": {},
   "outputs": [
    {
     "data": {
      "text/plain": [
       "AIMessage(content='', additional_kwargs={'tool_calls': [{'id': '01975f313b70c8cfad71ab37e3dff767', 'function': {'arguments': ' {\"airport_code\": \"SFO\"}', 'name': 'WeatherSearch'}, 'type': 'function', 'index': 0}], 'refusal': None}, response_metadata={'token_usage': {'completion_tokens': 9, 'prompt_tokens': 185, 'total_tokens': 194, 'completion_tokens_details': None, 'prompt_tokens_details': None}, 'model_name': 'Qwen/Qwen3-8B', 'system_fingerprint': '', 'id': '01975f313a959e292274bd1e4b94ad06', 'service_tier': None, 'finish_reason': 'tool_calls', 'logprobs': None}, id='run--d7326508-c281-409d-af7a-24e7e8fff1dd-0', tool_calls=[{'name': 'WeatherSearch', 'args': {'airport_code': 'SFO'}, 'id': '01975f313b70c8cfad71ab37e3dff767', 'type': 'tool_call'}], usage_metadata={'input_tokens': 185, 'output_tokens': 9, 'total_tokens': 194, 'input_token_details': {}, 'output_token_details': {}})"
      ]
     },
     "execution_count": 39,
     "metadata": {},
     "output_type": "execute_result"
    }
   ],
   "source": [
    "# 创建命中function的问答\n",
    "chain.invoke({\"input\": \"今天旧金山的天气怎么样？\"})"
   ]
  },
  {
   "cell_type": "code",
   "execution_count": 40,
   "id": "a98e8dbd",
   "metadata": {},
   "outputs": [
    {
     "data": {
      "text/plain": [
       "AIMessage(content='你好！有什么我可以帮助你的吗？', additional_kwargs={'refusal': None}, response_metadata={'token_usage': {'completion_tokens': 8, 'prompt_tokens': 180, 'total_tokens': 188, 'completion_tokens_details': None, 'prompt_tokens_details': None}, 'model_name': 'Qwen/Qwen3-8B', 'system_fingerprint': '', 'id': '01975f314468345ae73ff624221d97ba', 'service_tier': None, 'finish_reason': 'stop', 'logprobs': None}, id='run--53a22908-9d06-4448-be24-74c084533788-0', usage_metadata={'input_tokens': 180, 'output_tokens': 8, 'total_tokens': 188, 'input_token_details': {}, 'output_token_details': {}})"
      ]
     },
     "execution_count": 40,
     "metadata": {},
     "output_type": "execute_result"
    }
   ],
   "source": [
    "# 创建未命中function的问答\n",
    "chain.invoke({\"input\": \"你好!\"})"
   ]
  },
  {
   "cell_type": "markdown",
   "id": "19d7433a",
   "metadata": {},
   "source": [
    "## 4.2 使用多个function"
   ]
  },
  {
   "cell_type": "markdown",
   "id": "f1884ed9",
   "metadata": {},
   "source": [
    "我们可以传递一组函数，让 LLM 根据问题上下文决定使用哪个函数。"
   ]
  },
  {
   "cell_type": "code",
   "execution_count": 41,
   "id": "f1cc30d8",
   "metadata": {},
   "outputs": [],
   "source": [
    "# 创建 ArtistSearch function\n",
    "class ArtistSearch(BaseModel):\n",
    "    \"\"\"调用此命令可以获得特定艺术家的歌曲名称\"\"\"\n",
    "    artist_name: str = Field(description=\"要查的艺术家的名字\")\n",
    "    n: int = Field(description=\"number of results\")"
   ]
  },
  {
   "cell_type": "code",
   "execution_count": 48,
   "id": "be15a438",
   "metadata": {},
   "outputs": [],
   "source": [
    "# 组装WeatherSearch和ArtistSearch 函数\n",
    "tools = [\n",
    "    {\n",
    "        \"type\": \"function\",\n",
    "        \"function\": convert_to_openai_function(WeatherSearch)\n",
    "    },\n",
    "    {\n",
    "        \"type\": \"function\",\n",
    "        \"function\": convert_to_openai_function(ArtistSearch)\n",
    "    }\n",
    "]"
   ]
  },
  {
   "cell_type": "code",
   "execution_count": 49,
   "id": "747e93e4",
   "metadata": {},
   "outputs": [],
   "source": [
    "# 将两个function放入模型\n",
    "model_with_functions = model.bind(tools=tools)"
   ]
  },
  {
   "cell_type": "code",
   "execution_count": 50,
   "id": "276e8a25",
   "metadata": {},
   "outputs": [
    {
     "data": {
      "text/plain": [
       "AIMessage(content='', additional_kwargs={'tool_calls': [{'id': '01975f333331383cf04c8d44b68b6260', 'function': {'arguments': ' {\"airport_code\": \"SFO\"}', 'name': 'WeatherSearch'}, 'type': 'function', 'index': 0}], 'refusal': None}, response_metadata={'token_usage': {'completion_tokens': 9, 'prompt_tokens': 272, 'total_tokens': 281, 'completion_tokens_details': None, 'prompt_tokens_details': None}, 'model_name': 'Qwen/Qwen3-8B', 'system_fingerprint': '', 'id': '01975f3331bc5b86ec2ce00e54d59659', 'service_tier': None, 'finish_reason': 'tool_calls', 'logprobs': None}, id='run--46b7082f-adaa-436a-810c-80a557571c9c-0', tool_calls=[{'name': 'WeatherSearch', 'args': {'airport_code': 'SFO'}, 'id': '01975f333331383cf04c8d44b68b6260', 'type': 'tool_call'}], usage_metadata={'input_tokens': 272, 'output_tokens': 9, 'total_tokens': 281, 'input_token_details': {}, 'output_token_details': {}})"
      ]
     },
     "execution_count": 50,
     "metadata": {},
     "output_type": "execute_result"
    }
   ],
   "source": [
    "# 命中 WeatherSearch function\n",
    "model_with_functions.invoke(\"旧金山的天气怎么样？\")"
   ]
  },
  {
   "cell_type": "code",
   "execution_count": 51,
   "id": "fb1dcd0b",
   "metadata": {},
   "outputs": [
    {
     "data": {
      "text/plain": [
       "AIMessage(content='', additional_kwargs={'tool_calls': [{'id': '01975f33455f3b976e01d8d8fc304f9f', 'function': {'arguments': ' {\"artist_name\": \"Taylor Swift\", \"n\": 3}', 'name': 'ArtistSearch'}, 'type': 'function', 'index': 0}], 'refusal': None}, response_metadata={'token_usage': {'completion_tokens': 15, 'prompt_tokens': 279, 'total_tokens': 294, 'completion_tokens_details': None, 'prompt_tokens_details': None}, 'model_name': 'Qwen/Qwen3-8B', 'system_fingerprint': '', 'id': '01975f3343a22001bc0227746b877140', 'service_tier': None, 'finish_reason': 'tool_calls', 'logprobs': None}, id='run--eaae31c2-83ef-4faf-8b93-bb018fc4fc88-0', tool_calls=[{'name': 'ArtistSearch', 'args': {'artist_name': 'Taylor Swift', 'n': 3}, 'id': '01975f33455f3b976e01d8d8fc304f9f', 'type': 'tool_call'}], usage_metadata={'input_tokens': 279, 'output_tokens': 15, 'total_tokens': 294, 'input_token_details': {}, 'output_token_details': {}})"
      ]
     },
     "execution_count": 51,
     "metadata": {},
     "output_type": "execute_result"
    }
   ],
   "source": [
    "# 命中 ArtistSearch function\n",
    "model_with_functions.invoke(\"找到泰勒·斯威夫特的三首歌？\")"
   ]
  },
  {
   "cell_type": "code",
   "execution_count": 52,
   "id": "06f9e5d0",
   "metadata": {},
   "outputs": [
    {
     "data": {
      "text/plain": [
       "AIMessage(content='你好！有什么我可以帮助你的吗？', additional_kwargs={'refusal': None}, response_metadata={'token_usage': {'completion_tokens': 8, 'prompt_tokens': 268, 'total_tokens': 276, 'completion_tokens_details': None, 'prompt_tokens_details': None}, 'model_name': 'Qwen/Qwen3-8B', 'system_fingerprint': '', 'id': '01975f335c90f5c91fa62ff83a7933b1', 'service_tier': None, 'finish_reason': 'stop', 'logprobs': None}, id='run--271711f6-a5b8-40c4-b213-ff55931c4dc4-0', usage_metadata={'input_tokens': 268, 'output_tokens': 8, 'total_tokens': 276, 'input_token_details': {}, 'output_token_details': {}})"
      ]
     },
     "execution_count": 52,
     "metadata": {},
     "output_type": "execute_result"
    }
   ],
   "source": [
    "# 命中都未命中\n",
    "model_with_functions.invoke(\"你好!\")"
   ]
  },
  {
   "cell_type": "markdown",
   "id": "5fbd5418",
   "metadata": {},
   "source": [
    "# 五、英文版提示"
   ]
  },
  {
   "cell_type": "markdown",
   "id": "4acb9138",
   "metadata": {},
   "source": [
    "**3.1 构造OpenAI的function**"
   ]
  },
  {
   "cell_type": "code",
   "execution_count": 53,
   "id": "2af21fad",
   "metadata": {},
   "outputs": [],
   "source": [
    "class WeatherSearch(BaseModel):\n",
    "    \"\"\"Call this with an airport code to get the weather at that airport\"\"\"\n",
    "    airport_code: str = Field(description=\"airport code to get weather for\")"
   ]
  },
  {
   "cell_type": "code",
   "execution_count": 54,
   "id": "75c13c9e",
   "metadata": {},
   "outputs": [],
   "source": [
    "class WeatherSearch1(BaseModel):\n",
    "    airport_code: str = Field(description=\"airport code to get weather for\")"
   ]
  },
  {
   "cell_type": "code",
   "execution_count": 55,
   "id": "dd9a8ed3",
   "metadata": {},
   "outputs": [],
   "source": [
    "class WeatherSearch2(BaseModel):\n",
    "    \"\"\"Call this with an airport code to get the weather at that airport\"\"\"\n",
    "    airport_code: str"
   ]
  },
  {
   "cell_type": "markdown",
   "id": "f54d4bd2",
   "metadata": {},
   "source": [
    "**4.1 链式使用**"
   ]
  },
  {
   "cell_type": "code",
   "execution_count": 56,
   "id": "c2b91dd9",
   "metadata": {},
   "outputs": [],
   "source": [
    "prompt = ChatPromptTemplate.from_messages([\n",
    "    (\"system\", \"You are a helpful assistant\"),\n",
    "    (\"user\", \"{input}\")\n",
    "])"
   ]
  },
  {
   "cell_type": "markdown",
   "id": "259599c1",
   "metadata": {},
   "source": [
    "**4.2 使用多个function**"
   ]
  },
  {
   "cell_type": "code",
   "execution_count": null,
   "id": "cfe327f1",
   "metadata": {},
   "outputs": [],
   "source": [
    "class ArtistSearch(BaseModel):\n",
    "    \"\"\"Call this to get the names of songs by a particular artist\"\"\"\n",
    "    artist_name: str = Field(description=\"name of artist to look up\")\n",
    "    n: int = Field(description=\"number of results\")"
   ]
  }
 ],
 "metadata": {
  "kernelspec": {
   "display_name": "Python 3 (ipykernel)",
   "language": "python",
   "name": "python3"
  },
  "language_info": {
   "codemirror_mode": {
    "name": "ipython",
    "version": 3
   },
   "file_extension": ".py",
   "mimetype": "text/x-python",
   "name": "python",
   "nbconvert_exporter": "python",
   "pygments_lexer": "ipython3",
   "version": "3.12.10"
  }
 },
 "nbformat": 4,
 "nbformat_minor": 5
}
