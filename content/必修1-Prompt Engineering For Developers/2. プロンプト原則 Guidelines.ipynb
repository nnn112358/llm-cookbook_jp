{
  "cells": [
    {
      "attachments": {},
      "cell_type": "markdown",
      "metadata": {},
      "source": "# 第2章 プロンプト作成の原則\n\n本章の主要な内容はプロンプト作成の原則についてです。本章では、プロンプト作成における2つの原則といくつかの関連戦略を説明し、効果的なプロンプトを作成する練習ができます。これにより、LLMを便利で効果的に使用できるようになります。",
      "outputs": []
    },
    {
      "cell_type": "markdown",
      "metadata": {},
      "source": "<div class=\"toc\">\n    <ul class=\"toc-item\">\n        <li><span><a href=\"#一環境設定\" data-toc-modified-id=\"一、環境設定\">一、環境設定</a></span></li>\n        <li>\n            <span><a href=\"#二つの基本原則\" data-toc-modified-id=\"二、二つの基本原則\">二、二つの基本原則</a></span>\n            <ul class=\"toc-item\">\n                <li><span><a href=\"#21-原則一明確で具体的な指示を書く\" data-toc-modified-id=\"2.1 原則一：明確で具体的な指示を書く\">2.1 原則一：明確で具体的な指示を書く</a></span></li>\n                <li><span><a href=\"#22-原則二モデルに考える時間を与える\" data-toc-modified-id=\"2.2 原則二：モデルに考える時間を与える\">2.2 原則二：モデルに考える時間を与える</a></span></li>\n            </ul>\n        </li>\n        <li><span><a href=\"#三制限事項\" data-toc-modified-id=\"三、制限事項\">三、制限事項</a></span>\n        </li>\n    </ul>\n</div>",
      "outputs": []
    },
    {
      "attachments": {},
      "cell_type": "markdown",
      "metadata": {},
      "source": "## 一、環境設定",
      "outputs": []
    },
    {
      "attachments": {},
      "cell_type": "markdown",
      "metadata": {},
      "source": "本チュートリアルはOpenAIが公開しているChatGPT APIを使用しています。そのため、まずChatGPTのAPI_KEYを取得する必要があります（または公式サイトに直接アクセスしてオンラインテストも可能です）。次に、OpenAIのサードパーティライブラリをインストールしてください。簡便性と互換性を考慮して、本チュートリアルでは```Python 3```環境における```openai.api_key```メソッドベースの設定方法を紹介します。環境変数ベースの設定方法もあります。詳細については[OpenAI公式ドキュメント](https://help.openai.com/en/articles/5112595-best-practices-for-api-key-safety)をご参照ください。",
      "outputs": []
    },
    {
      "attachments": {},
      "cell_type": "markdown",
      "metadata": {},
      "source": "まず、OpenAIライブラリをインストールする必要があります：\n```bash\npip install openai\n```",
      "outputs": []
    },
    {
      "cell_type": "code",
      "metadata": {},
      "outputs": [],
      "source": "import openai\n# サードパーティライブラリのインポート\n\nopenai.api_key  = \"sk-...\"\n# API_KEYの設定、ご自身のAPI_KEYに置き換えてください\n\n# 以下は環境変数ベースの設定方法の例で、より安全です。参考程度で、以降では扱いません。\n# import openai\n# import os\n# OPENAI_API_KEY = os.environ.get(\"OPENAI_API_KEY\")\n# openai.api_key = OPENAI_API_KEY"
    },
    {
      "attachments": {},
      "cell_type": "markdown",
      "metadata": {},
      "source": "このコース全体ではgpt-3.5-turboモデルを例として使用します。後のコースでOpenAIが提供する[Chat Completions API](https://platform.openai.com/docs/guides/gpt/chat-completions-api)の使用方法について詳しく学習します。ここでは、それを関数として包装します。内部の仕組みを知る必要はありません。この関数を呼び出し、プロンプトを入力パラメータとして渡すと、対応するCompletion（回答結果）が出力されることを理解していただければ十分です。",
      "outputs": []
    },
    {
      "cell_type": "code",
      "metadata": {},
      "outputs": [],
      "source": "# OpenAI APIをラップする関数、パラメータはプロンプト、対応する結果を返す\ndef get_completion(prompt, model=\"gpt-3.5-turbo\"):\n    '''\n    prompt: 対応するプロンプトテキスト\n    model: 呼び出すモデル、デフォルトはgpt-3.5-turbo(ChatGPT)、ベータ版資格を持つユーザーはgpt-4を選択可能\n    '''\n    messages = [{\"role\": \"user\", \"content\": prompt}]\n    response = openai.ChatCompletion.create(\n        model=model,\n        messages=messages,\n        temperature=0, # モデル出力の温度係数、出力のランダム性を制御\n    )\n    # OpenAIのChatCompletion APIを呼び出し\n    return response.choices[0].message[\"content\"]"
    },
    {
      "attachments": {},
      "cell_type": "markdown",
      "metadata": {},
      "source": "## 二、二つの基本原則",
      "outputs": []
    },
    {
      "attachments": {},
      "cell_type": "markdown",
      "metadata": {},
      "source": "### 2.1 原則一：明確で具体的な指示を書く\n\nできるだけ明確で具体的な指示を提供することで、モデルに実行してもらいたい操作を表現する必要があります。これにより、モデルが正しい出力を生成するように導き、無関係または不正確な応答を得る可能性を減らします。明確な指示は簡潔である必要があるという意味ではありません。多くの場合、より長いプロンプトの方が実際により明確で、より多くのコンテキストを提供し、より詳細で関連性の高い出力を生成する可能性があります。",
      "outputs": []
    },
    {
      "attachments": {},
      "cell_type": "markdown",
      "metadata": {},
      "source": "**2.1.1 区切り文字を使用して入力の異なる部分を明確に表す**\n\n区切り文字には：```、\"\"、<>、:、\\<tag> \\</tag>などがあります。\n\n明らかな句読点を使用して、特定のテキスト部分をプロンプトの残りの部分から分離できます。マークの形式に制限はなく、モデルがこれが独立した部分であることを明確に知ることができればよいのです。区切り文字の使用は、プロンプトインジェクション（Prompt injection）を効果的に回避できます。プロンプトインジェクションとは、ユーザーが（開発者が事前定義した）プロンプトに何らかの入力を追加することが許可されている場合、提供された指示が開発者が実行したい操作と競合する可能性があり、それによってLLMがユーザー入力の指示に従い、開発者が期待する操作を実行しなくなることです。つまり、入力には他の指示が含まれている可能性があり、これがあなたの指示を上書きしてしまいます。これに対して、区切り文字の使用は良い戦略です。\n\n以下の例では、テキストを提供してGPTに要約を求めています。この例では、```を区切り文字として使用しています。",
      "outputs": []
    },
    {
      "cell_type": "code",
      "execution_count": null,
      "metadata": {},
      "outputs": [],
      "source": [
        "# 中文版见下一个 cell\n",
        "text = f\"\"\"\n",
        "You should express what you want a model to do by \\ \n",
        "providing instructions that are as clear and \\ \n",
        "specific as you can possibly make them. \\ \n",
        "This will guide the model towards the desired output, \\ \n",
        "and reduce the chances of receiving irrelevant \\ \n",
        "or incorrect responses. Don't confuse writing a \\ \n",
        "clear prompt with writing a short prompt. \\ \n",
        "In many cases, longer prompts provide more clarity \\ \n",
        "and context for the model, which can lead to \\ \n",
        "more detailed and relevant outputs.\n",
        "\"\"\"\n",
        "prompt = f\"\"\"\n",
        "Summarize the text delimited by triple backticks \\ \n",
        "into a single sentence.\n",
        "```{text}```\n",
        "\"\"\"\n",
        "response = get_completion(prompt)\n",
        "print(response)"
      ]
    },
    {
      "attachments": {},
      "cell_type": "markdown",
      "metadata": {},
      "source": [
        "Clear and specific instructions should be provided to guide a model towards the desired output, and longer prompts can provide more clarity and context for the model, leading to more detailed and relevant outputs."
      ]
    },
    {
      "cell_type": "code",
      "metadata": {},
      "outputs": [],
      "source": "text = f\"\"\"\nできるだけ明確で具体的な指示を提供して、モデルに実行してもらいたいタスクを表現する必要があります。\\\nこれにより、モデルが必要な出力に向かって導かれ、無関係または不正確な応答を受け取る可能性が低くなります。\\\n明確なプロンプトを書くことと簡潔なプロンプトを書くことを混同してはいけません。\\\n多くの場合、より長いプロンプトはモデルにより多くの明確性とコンテキスト情報を提供し、より詳細で関連性の高い出力につながります。\n\"\"\"\n# 要約するテキスト内容\nprompt = f\"\"\"\n三つのバッククォートで囲まれたテキストを一文で要約してください。\n```{text}```\n\"\"\"\n# 指示内容、```を使用して指示と要約対象のコンテンツを分離\nresponse = get_completion(prompt)\nprint(response)"
    },
    {
      "attachments": {},
      "cell_type": "markdown",
      "metadata": {},
      "source": "明確で具体的な指示を提供し、無関係または不正確な応答を避け、明確さと簡潔さを混同せず、より長いプロンプトはより多くの明確性とコンテキスト情報を提供し、より詳細で関連性の高い出力につながります。",
      "outputs": []
    },
    {
      "attachments": {},
      "cell_type": "markdown",
      "metadata": {},
      "source": "**2.1.2 構造化された出力を求める**\n\n出力はJson、HTMLなどの形式にすることができます。\n\n第二の戦略は、構造化された出力を生成するよう求めることです。これにより、モデルの出力をより解析しやすくなります。例えば、Pythonで辞書やリストに読み込むことができます。\n\n以下の例では、3冊の本のタイトル、著者、カテゴリを生成するようGPTに求め、JSON形式で返すよう要求しています。解析を容易にするため、JSONのキーを指定しています。",
      "outputs": []
    },
    {
      "cell_type": "code",
      "execution_count": 7,
      "metadata": {},
      "outputs": [
        {
          "name": "stdout",
          "output_type": "stream",
          "text": [
            "[\n",
            "  {\n",
            "    \"book_id\": 1,\n",
            "    \"title\": \"The Lost City of Zorath\",\n",
            "    \"author\": \"Aria Blackwood\",\n",
            "    \"genre\": \"Fantasy\"\n",
            "  },\n",
            "  {\n",
            "    \"book_id\": 2,\n",
            "    \"title\": \"The Last Survivors\",\n",
            "    \"author\": \"Ethan Stone\",\n",
            "    \"genre\": \"Science Fiction\"\n",
            "  },\n",
            "  {\n",
            "    \"book_id\": 3,\n",
            "    \"title\": \"The Secret Life of Bees\",\n",
            "    \"author\": \"Lila Rose\",\n",
            "    \"genre\": \"Romance\"\n",
            "  }\n",
            "]\n"
          ]
        }
      ],
      "source": [
        "prompt = f\"\"\"\n",
        "Generate a list of three made-up book titles along \\ \n",
        "with their authors and genres. \n",
        "Provide them in JSON format with the following keys: \n",
        "book_id, title, author, genre.\n",
        "\"\"\"\n",
        "response = get_completion(prompt)\n",
        "print(response)\n"
      ]
    },
    {
      "cell_type": "code",
      "metadata": {},
      "outputs": [],
      "source": "prompt = f\"\"\"\n書名、著者、ジャンルを含む3冊の架空の書籍リストを生成し、\\\n次のキーを含むJSON形式で提供してください：book_id、title、author、genre。\n\"\"\"\nresponse = get_completion(prompt)\nprint(response)"
    },
    {
      "cell_type": "markdown",
      "metadata": {},
      "source": []
    },
    {
      "attachments": {},
      "cell_type": "markdown",
      "metadata": {},
      "source": "**2.1.3 モデルに条件を満たしているかどうかをチェックするよう求める**\n\nタスクが必ずしも満たされるとは限らない前提（条件）を含む場合、まずこれらの前提をチェックするようモデルに伝え、満たされていない場合は指摘して後続の完全なフローの実行を停止することができます。また、起こりうるエッジケースとモデルの対応も考慮して、予期しない結果やエラーの発生を回避することもできます。\n\n以下の例では、2つのテキストをモデルに別々に提供します。1つは茶の入れ方の手順、もう1つは明確な手順のないテキストです。モデルに、一連の指示が含まれているかどうかを判断し、含まれている場合は指定された形式で指示を書き直し、含まれていない場合は「手順が提供されていません」と回答するよう求めます。",
      "outputs": []
    },
    {
      "cell_type": "code",
      "execution_count": 9,
      "metadata": {},
      "outputs": [
        {
          "name": "stdout",
          "output_type": "stream",
          "text": [
            "Completion for Text 1:\n",
            "Step 1 - Get some water boiling.\n",
            "Step 2 - Grab a cup and put a tea bag in it.\n",
            "Step 3 - Once the water is hot enough, pour it over the tea bag.\n",
            "Step 4 - Let it sit for a bit so the tea can steep.\n",
            "Step 5 - After a few minutes, take out the tea bag.\n",
            "Step 6 - Add some sugar or milk to taste.\n",
            "Step 7 - Enjoy your delicious cup of tea!\n",
            "\n",
            "\n"
          ]
        }
      ],
      "source": [
        "text_1 = f\"\"\"\n",
        "Making a cup of tea is easy! First, you need to get some \\ \n",
        "water boiling. While that's happening, \\ \n",
        "grab a cup and put a tea bag in it. Once the water is \\ \n",
        "hot enough, just pour it over the tea bag. \\ \n",
        "Let it sit for a bit so the tea can steep. After a \\ \n",
        "few minutes, take out the tea bag. If you \\ \n",
        "like, you can add some sugar or milk to taste. \\ \n",
        "And that's it! You've got yourself a delicious \\ \n",
        "cup of tea to enjoy.\n",
        "\"\"\"\n",
        "prompt = f\"\"\"\n",
        "You will be provided with text delimited by triple quotes. \n",
        "If it contains a sequence of instructions, \\ \n",
        "re-write those instructions in the following format:\n",
        "\n",
        "Step 1 - ...\n",
        "Step 2 - …\n",
        "…\n",
        "Step N - …\n",
        "\n",
        "If the text does not contain a sequence of instructions, \\ \n",
        "then simply write \\\"No steps provided.\\\"\n",
        "\n",
        "\\\"\\\"\\\"{text_1}\\\"\\\"\\\"\n",
        "\"\"\"\n",
        "response = get_completion(prompt)\n",
        "print(\"Completion for Text 1:\")\n",
        "print(response)"
      ]
    },
    {
      "cell_type": "code",
      "execution_count": 11,
      "metadata": {},
      "outputs": [
        {
          "name": "stdout",
          "output_type": "stream",
          "text": [
            "Completion for Text 2:\n",
            "No steps provided.\n"
          ]
        }
      ],
      "source": [
        "text_2 = f\"\"\"\n",
        "The sun is shining brightly today, and the birds are \\\n",
        "singing. It's a beautiful day to go for a \\ \n",
        "walk in the park. The flowers are blooming, and the \\ \n",
        "trees are swaying gently in the breeze. People \\ \n",
        "are out and about, enjoying the lovely weather. \\ \n",
        "Some are having picnics, while others are playing \\ \n",
        "games or simply relaxing on the grass. It's a \\ \n",
        "perfect day to spend time outdoors and appreciate the \\ \n",
        "beauty of nature.\n",
        "\"\"\"\n",
        "prompt = f\"\"\"You will be provided with text delimited by triple quotes. \n",
        "If it contains a sequence of instructions, \\ \n",
        "re-write those instructions in the following format:\n",
        "Step 1 - ...\n",
        "Step 2 - …\n",
        "…\n",
        "Step N - …\n",
        "\n",
        "If the text does not contain a sequence of instructions, \\ \n",
        "then simply write \\\"No steps provided.\\\"\n",
        "\n",
        "\\\"\\\"\\\"{text_2}\\\"\\\"\\\"\n",
        "\"\"\"\n",
        "response = get_completion(prompt)\n",
        "print(\"Completion for Text 2:\")\n",
        "print(response)"
      ]
    },
    {
      "cell_type": "code",
      "metadata": {},
      "outputs": [],
      "source": "# 条件を満たす入力（textに手順が提供されている）\ntext_1 = f\"\"\"\nお茶を淹れるのは簡単です。まず、お湯を沸かします。\\\n待っている間に、カップを取り茶袋を入れます。\\\nお湯が十分熱くなったら、茶袋にお湯を注ぎます。\\\nしばらく待って、茶葉を蒸らします。数分後、茶袋を取り出します。\\\nお好みで、砂糖やミルクを加えて味を調えることができます。\\\nこれで、美味しいお茶をお楽しみいただけます。\n\"\"\"\nprompt = f\"\"\"\n三つの引用符で囲まれたテキストが提供されます。\\\n一連の指示が含まれている場合は、次の形式でその指示を書き直してください：\n\n第1ステップ - ...\n第2ステップ - …\n…\n第Nステップ - …\n\nテキストに一連の指示が含まれていない場合は、「手順が提供されていません」と直接書いてください。\n\\\"\\\"\\\"{text_1}\\\"\\\"\\\"\n\"\"\"\nresponse = get_completion(prompt)\nprint(\"Text 1の要約:\")\nprint(response)"
    },
    {
      "cell_type": "code",
      "metadata": {},
      "outputs": [],
      "source": "# 条件を満たさない入力（textに期待される指示が提供されていない）\ntext_2 = f\"\"\"\n今日は太陽が明るく輝き、鳥たちが歌っています。\\\n公園を散歩するのに美しい日です。\\\n花が咲き誇り、木々が微風に優しく揺れています。\\\n人々は外に出てこの美しい天気を楽しんでおり、ピクニックをしている人もいれば、ゲームをしたり草地でリラックスしたりしている人もいます。\\\n屋外で過ごし、自然の美しさを鑑賞するのに完璧な日です。\n\"\"\"\nprompt = f\"\"\"\n三つの引用符で囲まれたテキストが提供されます。\\\n一連の指示が含まれている場合は、次の形式でその指示を書き直してください：\n\n第1ステップ - ...\n第2ステップ - …\n…\n第Nステップ - …\n\nテキストに一連の指示が含まれていない場合は、「手順が提供されていません」と直接書いてください。\n\\\"\\\"\\\"{text_2}\\\"\\\"\\\"\n\"\"\"\nresponse = get_completion(prompt)\nprint(\"Text 2の要約:\")\nprint(response)"
    },
    {
      "cell_type": "markdown",
      "metadata": {},
      "source": []
    },
    {
      "attachments": {},
      "cell_type": "markdown",
      "metadata": {},
      "source": "**2.1.4 少数の例を提供する**（少数例プロンプト、Few-shot prompting）\n\nつまり、モデルに実際のタスクを実行させる前に、タスクを成功裏に実行した少数の例を提供することです。\n\n例えば、以下の例では、モデルのタスクが一貫したスタイルで質問に回答することであることを伝え、まず子供と祖父の間の対話の例を提供します。子供が「忍耐について教えて」と言い、祖父が以下のようなスタイルの比喩で回答します。モデルに一貫したトーンで回答するよう既に伝えているため、今度は「レジリエンスについて教えて」と質問すると、モデルがこの少数例（few-shot example）を持っているため、似たようなトーンで次のタスクに回答します。",
      "outputs": []
    },
    {
      "cell_type": "code",
      "execution_count": 13,
      "metadata": {},
      "outputs": [
        {
          "name": "stdout",
          "output_type": "stream",
          "text": [
            "<grandparent>: Resilience is like a tree that bends with the wind but never breaks. It is the ability to bounce back from adversity and keep moving forward, even when things get tough. Just like a tree that grows stronger with each storm it weathers, resilience is a quality that can be developed and strengthened over time.\n"
          ]
        }
      ],
      "source": [
        "prompt = f\"\"\"\n",
        "Your task is to answer in a consistent style.\n",
        "\n",
        "<child>: Teach me about patience.\n",
        "\n",
        "<grandparent>: The river that carves the deepest \\ \n",
        "valley flows from a modest spring; the \\ \n",
        "grandest symphony originates from a single note; \\ \n",
        "the most intricate tapestry begins with a solitary thread.\n",
        "\n",
        "<child>: Teach me about resilience.\n",
        "\"\"\"\n",
        "response = get_completion(prompt)\n",
        "print(response)"
      ]
    },
    {
      "cell_type": "code",
      "metadata": {},
      "outputs": [],
      "source": "prompt = f\"\"\"\nあなたのタスクは一貫したスタイルで質問に回答することです。\n\n<子供>: 忍耐について教えて。\n\n<祖父母>: 最も深い峡谷を掘る川は目立たない泉から流れ出し、最も壮大な交響曲は単一の音符から始まり、最も複雑なタペストリーは一本の孤独な糸から編み始められます。\n\n<子供>: レジリエンス（復元力）について教えて。\n\"\"\"\nresponse = get_completion(prompt)\nprint(response)"
    },
    {
      "attachments": {},
      "cell_type": "markdown",
      "metadata": {},
      "source": "### 2.2 モデルに考える時間を与える\n\nモデルの推論プロセスが急ぎすぎて間違った結論に達していることが分かった場合、プロンプトを再構成して、最終的な回答を提供する前に**思考チェーン**を展開するか、一連の関連する推論（a chain or series of relevant reasoning）を行うようモデルに求める必要があります。つまり、短時間で、または少ない文字数で完了できない複雑なタスクをモデルに与えると、その出力結果にエラーが生じやすくなります。この状況は人間にとっても同様です：複雑な数学問題を解くのに十分な時間を与えずに誰かに求めると、その人もミスを犯す可能性があります。したがって、このような場合は、モデルに問題についてより多くの時間を考えるよう指示し、タスクにより多くの計算資源を費やすようにする必要があります。",
      "outputs": []
    },
    {
      "attachments": {},
      "cell_type": "markdown",
      "metadata": {},
      "source": "**2.2.1 タスクを完了するために必要な手順を指定する**\n\n次に、複雑なタスクを与え、そのタスクを完了するための一連の手順を示すことで、この戦略の効果を示します。",
      "outputs": []
    },
    {
      "attachments": {},
      "cell_type": "markdown",
      "metadata": {},
      "source": "まず、ジャックとジルの物語を説明し、プロンプトに次の操作を実行するよう指示します：まず、三つのバッククォートで区切られたテキストを一文で要約する。第二に、要約をフランス語に翻訳する。第三に、フランス語の要約で各名前をリストアップする。第四に、次のキーを含むJSONオブジェクトを出力する：フランス語要約と名前の数。出力は改行文字で区切る。",
      "outputs": []
    },
    {
      "cell_type": "code",
      "execution_count": 16,
      "metadata": {},
      "outputs": [
        {
          "name": "stdout",
          "output_type": "stream",
          "text": [
            "Completion for prompt 1:\n",
            "Two siblings, Jack and Jill, go on a quest to fetch water from a well on a hilltop, but misfortune strikes and they both tumble down the hill, returning home slightly battered but with their adventurous spirits undimmed.\n",
            "\n",
            "Deux frères et sœurs, Jack et Jill, partent en quête d'eau d'un puits sur une colline, mais un malheur frappe et ils tombent tous les deux de la colline, rentrant chez eux légèrement meurtris mais avec leurs esprits aventureux intacts. \n",
            "Noms: Jack, Jill.\n",
            "\n",
            "{\n",
            "  \"french_summary\": \"Deux frères et sœurs, Jack et Jill, partent en quête d'eau d'un puits sur une colline, mais un malheur frappe et ils tombent tous les deux de la colline, rentrant chez eux légèrement meurtris mais avec leurs esprits aventureux intacts.\",\n",
            "  \"num_names\": 2\n",
            "}\n"
          ]
        }
      ],
      "source": [
        "text = f\"\"\"\n",
        "In a charming village, siblings Jack and Jill set out on \\ \n",
        "a quest to fetch water from a hilltop \\ \n",
        "well. As they climbed, singing joyfully, misfortune \\ \n",
        "struck—Jack tripped on a stone and tumbled \\ \n",
        "down the hill, with Jill following suit. \\ \n",
        "Though slightly battered, the pair returned home to \\ \n",
        "comforting embraces. Despite the mishap, \\ \n",
        "their adventurous spirits remained undimmed, and they \\ \n",
        "continued exploring with delight.\n",
        "\"\"\"\n",
        "# example 1\n",
        "prompt_1 = f\"\"\"\n",
        "Perform the following actions: \n",
        "1 - Summarize the following text delimited by triple \\\n",
        "backticks with 1 sentence.\n",
        "2 - Translate the summary into French.\n",
        "3 - List each name in the French summary.\n",
        "4 - Output a json object that contains the following \\\n",
        "keys: french_summary, num_names.\n",
        "\n",
        "Separate your answers with line breaks.\n",
        "\n",
        "Text:\n",
        "```{text}```\n",
        "\"\"\"\n",
        "response = get_completion(prompt_1)\n",
        "print(\"Completion for prompt 1:\")\n",
        "print(response)"
      ]
    },
    {
      "cell_type": "code",
      "metadata": {},
      "outputs": [],
      "source": "text = f\"\"\"\n魅力的な村で、兄妹のジャックとジルが山頂の井戸に水を汲みに出発しました。\\\n楽しい歌を歌いながら登っていましたが、\\\n不運が襲いかかりました―ジャックが石につまずいて山から転がり落ち、ジルがその後に続きました。\\\n少々傷を負いましたが、彼らは温かい家に帰りつきました。\\\nこのような事故にもかかわらず、彼らの冒険精神は衰えることなく、喜びに満ちて探索を続けています。\n\"\"\"\n# example 1\nprompt_1 = f\"\"\"\n次の操作を実行してください：\n1-三つのバッククォートで囲まれた以下のテキストを一文で要約してください。\n2-要約を英語に翻訳してください。\n3-英語の要約で各人名をリストアップしてください。\n4-次のキーを含むJSONオブジェクトを出力してください：English_summary、num_names。\n\n改行文字で回答を区切ってください。\n\nText:\n```{text}```\n\"\"\"\nresponse = get_completion(prompt_1)\nprint(\"prompt 1:\")\nprint(response)"
    },
    {
      "cell_type": "markdown",
      "metadata": {},
      "source": []
    },
    {
      "attachments": {},
      "cell_type": "markdown",
      "metadata": {},
      "source": "上記の出力にはまだ一定の問題があります。例えば、キー「名前」がフランス語に置き換えられることがあります（翻訳注：英語原版では、対応する指示の第3ステップの出力が'Noms:'で、これはNameのフランス語です。この動作は予測困難で、エクスポートに困難をもたらす可能性があります）\n\nそのため、プロンプトを改善します。このプロンプトの前半部分は変わらず、同時に**出力形式を正確に指定**します。",
      "outputs": []
    },
    {
      "cell_type": "code",
      "execution_count": 18,
      "metadata": {},
      "outputs": [
        {
          "name": "stdout",
          "output_type": "stream",
          "text": [
            "\n",
            "Completion for prompt 2:\n",
            "Summary: 兄妹杰克和吉尔在山顶井里打水时发生意外，但他们仍然保持冒险精神继续探索。\n",
            "Translation: Jack and Jill, deux frères et sœurs, ont eu un accident en allant chercher de l'eau dans un puits de montagne, mais ils ont continué à explorer avec un esprit d'aventure.\n",
            "Names: Jack, Jill\n",
            "Output JSON: {\"french_summary\": \"Jack and Jill, deux frères et sœurs, ont eu un accident en allant chercher de l'eau dans un puits de montagne, mais ils ont continué à explorer avec un esprit d'aventure.\", \"num_names\": 2}\n"
          ]
        }
      ],
      "source": [
        "prompt_2 = f\"\"\"\n",
        "Your task is to perform the following actions: \n",
        "1 - Summarize the following text delimited by <> with 1 sentence.\n",
        "2 - Translate the summary into French.\n",
        "3 - List each name in the French summary.\n",
        "4 - Output a json object that contains the \n",
        "following keys: french_summary, num_names.\n",
        "\n",
        "Use the following format:\n",
        "Text: <text to summarize>\n",
        "Summary: <summary>\n",
        "Translation: <summary translation>\n",
        "Names: <list of names in French summary>\n",
        "Output JSON: <json with summary and num_names>\n",
        "\n",
        "Text: <{text}>\n",
        "\"\"\"\n",
        "response = get_completion(prompt_2)\n",
        "print(\"\\nCompletion for prompt 2:\")\n",
        "print(response)"
      ]
    },
    {
      "cell_type": "code",
      "metadata": {},
      "outputs": [],
      "source": "prompt_2 = f\"\"\"\n1-<>で囲まれた以下のテキストを一文で要約してください。\n2-要約を英語に翻訳してください。\n3-英語の要約で各名前をリストアップしてください。\n4-次のキーを含むJSONオブジェクトを出力してください：English_summary、num_names。\n\n次の形式を使用してください：\nテキスト：<要約するテキスト>\n要約：<要約>\n翻訳：<要約の翻訳>\n名前：<英語要約の名前リスト>\nJSONの出力：<English_summaryとnum_namesを含むJSON>\n\nText: <{text}>\n\"\"\"\nresponse = get_completion(prompt_2)\nprint(\"\\nprompt 2:\")\nprint(response)"
    },
    {
      "attachments": {},
      "cell_type": "markdown",
      "metadata": {},
      "source": [
        " "
      ]
    },
    {
      "attachments": {},
      "cell_type": "markdown",
      "metadata": {},
      "source": "**2.2.2 結論を出す前に独自の解法を見つけるようモデルに指導する**\n\n急いで決定を下す前に、自分で解決方法を考え出すようモデルに明確に指導します。時にはこれによってより良い結果が得られます。これは前述の思想と似ており、つまりモデルに考える時間を与えることです。\n\n次に、問題と学生からの回答を提供し、回答が正しいかどうかをモデルに判断してもらいます：",
      "outputs": []
    },
    {
      "cell_type": "code",
      "execution_count": 22,
      "metadata": {},
      "outputs": [
        {
          "name": "stdout",
          "output_type": "stream",
          "text": [
            "The student's solution is correct.\n"
          ]
        }
      ],
      "source": [
        "prompt = f\"\"\"\n",
        "Determine if the student's solution is correct or not.\n",
        "\n",
        "Question:\n",
        "I'm building a solar power installation and I need \\\n",
        " help working out the financials. \n",
        "- Land costs $100 / square foot\n",
        "- I can buy solar panels for $250 / square foot\n",
        "- I negotiated a contract for maintenance that will cost \\ \n",
        "me a flat $100k per year, and an additional $10 / square \\\n",
        "foot\n",
        "What is the total cost for the first year of operations \n",
        "as a function of the number of square feet.\n",
        "\n",
        "Student's Solution:\n",
        "Let x be the size of the installation in square feet.\n",
        "Costs:\n",
        "1. Land cost: 100x\n",
        "2. Solar panel cost: 250x\n",
        "3. Maintenance cost: 100,000 + 100x\n",
        "Total cost: 100x + 250x + 100,000 + 100x = 450x + 100,000\n",
        "\"\"\"\n",
        "response = get_completion(prompt)\n",
        "print(response)"
      ]
    },
    {
      "cell_type": "code",
      "metadata": {},
      "outputs": [],
      "source": "prompt = f\"\"\"\n学生の解決方法が正しいかどうかを判断してください。\n\n問題:\n太陽光発電所を建設しており、財務計算の支援が必要です。\n\n    土地費用は100ドル/平方フィート\n    太陽光パネルを250ドル/平方フィートで購入可能\n    メンテナンス契約を交渉済みで、年間固定10万ドル、さらに平方フィートあたり10ドル\n    平方フィート数の関数として、初年度運営の総費用はいくらですか？\n\n学生の解決方法：\nxを発電所のサイズ（平方フィート単位）とする。\n費用：\n\n    土地費用：100x\n    太陽光パネル費用：250x\n    メンテナンス費用：100,000ドル+100x\n    総費用：100x+250x+100,000ドル+100x=450x+100,000ドル\n\"\"\"\nresponse = get_completion(prompt)\nprint(response)"
    },
    {
      "cell_type": "markdown",
      "metadata": {},
      "source": []
    },
    {
      "attachments": {},
      "cell_type": "markdown",
      "metadata": {},
      "source": "しかし注意してください、学生の解決方法は実際には間違っています。（*メンテナンス費用項目の100xは10xであるべきで、総費用450xは360xであるべきです*）\n\nこの問題は、モデルに最初に独自の解法を見つけるよう指導することで解決できます。\n\n次のプロンプトでは、モデルに最初にこの問題を自分で解くよう求め、その後自分の解法と学生の解法を比較して、学生の解法が正しいかどうかを判断するよう求めます。同時に、出力形式の要求も与えています。タスクを分解し、手順を明確にすることで、モデルにより多くの考える時間を与え、時にはより正確な結果を得ることができます。この例では、学生の答えは間違っていますが、モデルに最初に自分で計算させなければ、学生が正しいと誤解される可能性があります。",
      "outputs": []
    },
    {
      "cell_type": "code",
      "execution_count": 24,
      "metadata": {},
      "outputs": [
        {
          "name": "stdout",
          "output_type": "stream",
          "text": [
            "Let x be the size of the installation in square feet.\n",
            "\n",
            "Costs:\n",
            "1. Land cost: 100x\n",
            "2. Solar panel cost: 250x\n",
            "3. Maintenance cost: 100,000 + 10x\n",
            "\n",
            "Total cost: 100x + 250x + 100,000 + 10x = 360x + 100,000\n",
            "\n",
            "Is the student's solution the same as actual solution just calculated:\n",
            "No\n",
            "\n",
            "Student grade:\n",
            "Incorrect\n"
          ]
        }
      ],
      "source": [
        "prompt = f\"\"\"\n",
        "Your task is to determine if the student's solution \\\n",
        "is correct or not.\n",
        "To solve the problem do the following:\n",
        "- First, work out your own solution to the problem. \n",
        "- Then compare your solution to the student's solution \\ \n",
        "and evaluate if the student's solution is correct or not. \n",
        "Don't decide if the student's solution is correct until \n",
        "you have done the problem yourself.\n",
        "\n",
        "Use the following format:\n",
        "Question:\n",
        "```\n",
        "question here\n",
        "```\n",
        "Student's solution:\n",
        "```\n",
        "student's solution here\n",
        "```\n",
        "Actual solution:\n",
        "```\n",
        "steps to work out the solution and your solution here\n",
        "```\n",
        "Is the student's solution the same as actual solution \\\n",
        "just calculated:\n",
        "```\n",
        "yes or no\n",
        "```\n",
        "Student grade:\n",
        "```\n",
        "correct or incorrect\n",
        "```\n",
        "\n",
        "Question:\n",
        "```\n",
        "I'm building a solar power installation and I need help \\\n",
        "working out the financials. \n",
        "- Land costs $100 / square foot\n",
        "- I can buy solar panels for $250 / square foot\n",
        "- I negotiated a contract for maintenance that will cost \\\n",
        "me a flat $100k per year, and an additional $10 / square \\\n",
        "foot\n",
        "What is the total cost for the first year of operations \\\n",
        "as a function of the number of square feet.\n",
        "``` \n",
        "Student's solution:\n",
        "```\n",
        "Let x be the size of the installation in square feet.\n",
        "Costs:\n",
        "1. Land cost: 100x\n",
        "2. Solar panel cost: 250x\n",
        "3. Maintenance cost: 100,000 + 100x\n",
        "Total cost: 100x + 250x + 100,000 + 100x = 450x + 100,000\n",
        "```\n",
        "Actual solution:\n",
        "\"\"\"\n",
        "response = get_completion(prompt)\n",
        "print(response)"
      ]
    },
    {
      "cell_type": "code",
      "metadata": {},
      "outputs": [],
      "source": "prompt = f\"\"\"\n学生の解決方法が正しいかどうかを判断してください。次の手順で問題を解決してください：\n\n手順：\nまず、自分で問題を解決し、問題を解く際に数式を列記してください。\nその後、あなたの解決方法と学生の解決方法を比較し、学生の解決方法が正しいかどうかを評価してください。\n自分で問題を完了する前に、学生の解決方法が正しいかどうかを決定しないでください。\n\n次の形式を使用してください：\n\n問題：問題文\n学生の解決方法：学生の解決方法文\n実際の解決方法と手順：実際の解決方法と手順文\n**学生の計算結果：学生の計算結果文\n実際の計算結果：実際の計算結果文\n学生の計算結果と実際の計算結果は同じか：はい または いいえ\n学生の解決方法と実際の解決方法は同じか：はい または いいえ**\n学生の成績：正しい または 不正確\n\n問題：\n太陽光発電所を建設しており、財務計算の支援が必要です。\n- 土地費用は平方フィートあたり100ドル\n- 太陽光パネルを平方フィートあたり250ドルで購入可能\n- メンテナンス契約を交渉済みで、年間固定10万ドル、さらに平方フィートあたり10ドル\n平方フィート数の関数として、初年度運営の総費用はいくらですか？\n\n学生の解決方法：\n\nxを発電所のサイズ（平方フィート単位）とする。\n費用：\n1. 土地費用：100x\n2. 太陽光パネル費用：250x\n3. メンテナンス費用：100,000+100x\n総費用：100x+250x+100,000+100x=450x+100,000\n\n実際の解決方法と手順：\n\"\"\"\nresponse = get_completion(prompt)\nprint(response)"
    },
    {
      "cell_type": "markdown",
      "metadata": {},
      "source": []
    },
    {
      "attachments": {},
      "cell_type": "markdown",
      "metadata": {},
      "source": "## 三、制限事項",
      "outputs": []
    },
    {
      "attachments": {},
      "cell_type": "markdown",
      "metadata": {},
      "source": "**大規模モデル関連アプリケーションを開発する際は必ず心に留めておいてください：**\n\n**虚偽の知識**：モデルは時に真実らしく見えるが実際には作り話の知識を生成することがある\n\nモデルは訓練過程で大量の知識に触れましたが、見た情報を*完全に*記憶しているわけではないため、自分の知識の境界を正確に把握していません。これは、モデルが理解困難で曖昧なトピックについて質問に答えようとし、合理的に聞こえるが実際には正確でない答えを作り出す可能性があることを意味します。私たちはこれらの作り出された考えを幻覚（Hallucination）と呼びます。\n\n以下の例は大規模モデルの幻覚を示しています。私たちはBoie社が生産する*AeroGlide UltraSlim Smart Toothbrush*製品の情報を教えるよう求めました。実際、この会社は実在しますが、製品は作り話で、モデルは真面目に自分が作り出した知識を提供し、しかも非常に紛らわしいものでした。",
      "outputs": []
    },
    {
      "cell_type": "code",
      "execution_count": 28,
      "metadata": {},
      "outputs": [
        {
          "name": "stdout",
          "output_type": "stream",
          "text": [
            "The AeroGlide UltraSlim Smart Toothbrush by Boie is a high-tech toothbrush that uses advanced sonic technology to provide a deep and thorough clean. It features a slim and sleek design that makes it easy to hold and maneuver, and it comes with a range of smart features that help you optimize your brushing routine.\n",
            "\n",
            "One of the key features of the AeroGlide UltraSlim Smart Toothbrush is its advanced sonic technology, which uses high-frequency vibrations to break up plaque and bacteria on your teeth and gums. This technology is highly effective at removing even the toughest stains and buildup, leaving your teeth feeling clean and fresh.\n",
            "\n",
            "In addition to its sonic technology, the AeroGlide UltraSlim Smart Toothbrush also comes with a range of smart features that help you optimize your brushing routine. These include a built-in timer that ensures you brush for the recommended two minutes, as well as a pressure sensor that alerts you if you're brushing too hard.\n",
            "\n",
            "Overall, the AeroGlide UltraSlim Smart Toothbrush by Boie is a highly advanced and effective toothbrush that is perfect for anyone looking to take their oral hygiene to the next level. With its advanced sonic technology and smart features, it provides a deep and thorough clean that leaves your teeth feeling fresh and healthy.\n"
          ]
        }
      ],
      "source": [
        "prompt = f\"\"\"\n",
        "Tell me about AeroGlide UltraSlim Smart Toothbrush by Boie\n",
        "\"\"\"\n",
        "response = get_completion(prompt)\n",
        "print(response)"
      ]
    },
    {
      "cell_type": "code",
      "metadata": {},
      "outputs": [],
      "source": "prompt = f\"\"\"\nBoie社が生産するAeroGlide UltraSlim Smart Toothbrushの関連情報を教えてください\n\"\"\"\nresponse = get_completion(prompt)\nprint(response)"
    },
    {
      "cell_type": "markdown",
      "metadata": {},
      "source": []
    },
    {
      "attachments": {},
      "cell_type": "markdown",
      "metadata": {},
      "source": "虚偽と本物を見分けるのが非常に困難であるため、読者はこのシリーズのチュートリアルで学んだ知識に基づいて、自分のアプリケーションを構築する際に幻覚状況をできるだけ回避してください。幻覚は大規模モデルの既知の欠陥です（注：2023年7月時点）、OpenAIもこの問題の解決に努めています。\n\nモデルにテキストに基づいて回答を生成してもらいたい場合、幻覚を減らすもう一つの戦略は、まずモデルにそのテキストから関連する引用情報（any relevant quotes）をすべて取得するよう求め、その後引用した情報に基づいて質問に答えるよう求めることです。これにより、回答をソース文書にたどることができ、通常は幻覚を減らすのに非常に役立ちます。",
      "outputs": []
    },
    {
      "attachments": {},
      "cell_type": "markdown",
      "metadata": {},
      "source": "**バックスラッシュ使用に関する説明：**\n\n本チュートリアルでは、読みやすさを向上させるためにテキストを画面サイズに合わせるためにバックスラッシュ\\を使用し、改行文字\\nは使用していません。GPT-3は改行文字（newline characters）の影響を受けませんが、他の大規模モデルを呼び出す際は、改行文字がモデルのパフォーマンスに影響するかどうかを追加で考慮する必要があります。",
      "outputs": []
    }
  ],
  "metadata": {
    "kernelspec": {
      "display_name": "Python 3",
      "language": "python",
      "name": "python3"
    },
    "language_info": {
      "codemirror_mode": {
        "name": "ipython",
        "version": 3
      },
      "file_extension": ".py",
      "mimetype": "text/x-python",
      "name": "python",
      "nbconvert_exporter": "python",
      "pygments_lexer": "ipython3",
      "version": "3.8.13"
    },
    "latex_envs": {
      "LaTeX_envs_menu_present": true,
      "autoclose": false,
      "autocomplete": true,
      "bibliofile": "biblio.bib",
      "cite_by": "apalike",
      "current_citInitial": 1,
      "eqLabelWithNumbers": true,
      "eqNumInitial": 1,
      "hotkeys": {
        "equation": "Ctrl-E",
        "itemize": "Ctrl-I"
      },
      "labels_anchors": false,
      "latex_user_defs": false,
      "report_style_numbering": false,
      "user_envs_cfg": false
    },
    "toc": {
      "base_numbering": 1,
      "nav_menu": {},
      "number_sections": true,
      "sideBar": true,
      "skip_h1_title": false,
      "title_cell": "Table of Contents",
      "title_sidebar": "Contents",
      "toc_cell": false,
      "toc_position": {},
      "toc_section_display": true,
      "toc_window_display": true
    },
    "widgets": {
      "application/vnd.jupyter.widget-state+json": {
        "state": {}
      }
    }
  },
  "nbformat": 4,
  "nbformat_minor": 4
}
