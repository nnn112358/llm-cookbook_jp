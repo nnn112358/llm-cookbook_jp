{
  "cells": [
    {
      "attachments": {},
      "cell_type": "markdown",
      "id": "b58204ea",
      "metadata": {
        "pycharm": {
          "name": "#%% md\n"
        }
      },
      "source": "# 第4章 テキスト要約",
      "outputs": []
    },
    {
      "cell_type": "markdown",
      "id": "a190d6a1",
      "metadata": {
        "pycharm": {
          "name": "#%% md\n"
        }
      },
      "source": "<div class=\"toc\">\n <ul class=\"toc-item\">\n     <li><span><a href=\"#一導入\" data-toc-modified-id=\"一、導入\">一、導入</a></span></li>\n     <li>\n         <span><a href=\"#二単一テキスト要約\" data-toc-modified-id=\"二、単一テキスト要約実験\">二、単一テキスト要約実験</a></span>\n         <ul class=\"toc-item\">\n             <li><span><a href=\"#21-出力テキスト長の制限\" data-toc-modified-id=\"2.1 出力テキスト長の制限\">2.1 出力テキスト長の制限</a></span></li> \n             <li><span><a href=\"#22-重要な視点の設定\" data-toc-modified-id=\"2.2 重要な視点の設定\">2.2 重要な視点の設定</a></span></li>\n             <li><span><a href=\"#23-重要情報の抽出\" data-toc-modified-id=\"2.3 重要情報の抽出\">2.3 重要情報の抽出</a></span></li>\n             </ul>\n         </li>\n     <li><span><a href=\"#三複数テキストの同時要約\" data-toc-modified-id=\"三、複数テキストの同時要約\">三、複数テキストの同時要約</a></span></li>\n     </ul>\n</div>",
      "outputs": []
    },
    {
      "attachments": {},
      "cell_type": "markdown",
      "id": "b70ad003",
      "metadata": {
        "pycharm": {
          "name": "#%% md\n"
        }
      },
      "source": "## 一、導入",
      "outputs": []
    },
    {
      "attachments": {},
      "cell_type": "markdown",
      "id": "12fa9ea4",
      "metadata": {
        "pycharm": {
          "name": "#%% md\n"
        }
      },
      "source": "今日の世界にはテキスト情報が膨大に存在し、私たちが理解したいすべてのものを読むのに十分な時間を持つことは非常に困難です。しかし嬉しいことに、現在LLMはテキスト要約タスクにおいて強力なレベルを示しており、多くのチームが様々なアプリケーションで要約機能を実装しています。\n\n本章では、プログラミングを使用してAPIインターフェースを呼び出し、「テキスト要約」機能を実現する方法を紹介します。",
      "outputs": []
    },
    {
      "attachments": {},
      "cell_type": "markdown",
      "id": "1de4fd1e",
      "metadata": {
        "pycharm": {
          "name": "#%% md\n"
        }
      },
      "source": "まず、OpenAIパッケージをインポートし、APIキーを読み込み、getCompletion関数を定義する必要があります。",
      "outputs": []
    },
    {
      "cell_type": "code",
      "id": "1b4bfa7f",
      "metadata": {
        "pycharm": {
          "name": "#%%\n"
        }
      },
      "outputs": [],
      "source": "import openai\n# サードパーティライブラリのインポート\n\nopenai.api_key = \"sk-...\"\n# API_KEYの設定、ご自身のAPI_KEYに置き換えてください"
    },
    {
      "cell_type": "code",
      "id": "9f679f1f",
      "metadata": {
        "pycharm": {
          "name": "#%%\n"
        }
      },
      "outputs": [],
      "source": "def get_completion(prompt, model=\"gpt-3.5-turbo\"): \n    messages = [{\"role\": \"user\", \"content\": prompt}]\n    response = openai.ChatCompletion.create(\n        model=model,\n        messages=messages,\n        temperature=0, # 値が低いほど出力テキストのランダム性が低くなる\n    )\n    return response.choices[0].message[\"content\"]"
    },
    {
      "attachments": {},
      "cell_type": "markdown",
      "id": "9cca835b",
      "metadata": {
        "pycharm": {
          "name": "#%% md\n"
        }
      },
      "source": "## 二、単一テキスト要約",
      "outputs": []
    },
    {
      "attachments": {},
      "cell_type": "markdown",
      "id": "0c1e1b92",
      "metadata": {
        "pycharm": {
          "name": "#%% md\n"
        }
      },
      "source": "商品レビューの要約タスクを例に取ります：ECプラットフォームにとって、ウェブサイト上には膨大な商品レビューが存在することが多く、これらのレビューはすべての顧客の考えを反映しています。これらの膨大で冗長なレビューを要約するツールがあれば、より多くのレビューを迅速に閲覧し、顧客の好みを洞察し、プラットフォームと商店がより優れたサービスを提供するよう導くことができます。",
      "outputs": []
    },
    {
      "attachments": {},
      "cell_type": "markdown",
      "id": "9dc2e2bc",
      "metadata": {
        "pycharm": {
          "name": "#%% md\n"
        }
      },
      "source": "**入力テキスト**",
      "outputs": []
    },
    {
      "cell_type": "code",
      "execution_count": 3,
      "id": "4d9c0eeb",
      "metadata": {
        "pycharm": {
          "name": "#%%\n"
        }
      },
      "outputs": [],
      "source": [
        "prod_review = \"\"\"\n",
        "Got this panda plush toy for my daughter's birthday, \\\n",
        "who loves it and takes it everywhere. It's soft and \\ \n",
        "super cute, and its face has a friendly look. It's \\ \n",
        "a bit small for what I paid though. I think there \\ \n",
        "might be other options that are bigger for the \\ \n",
        "same price. It arrived a day earlier than expected, \\ \n",
        "so I got to play with it myself before I gave it \\ \n",
        "to her.\n",
        "\"\"\""
      ]
    },
    {
      "attachments": {},
      "cell_type": "markdown",
      "id": "aad5bd2a",
      "metadata": {
        "pycharm": {
          "name": "#%% md\n"
        }
      },
      "source": "**入力テキスト（日本語翻訳）**",
      "outputs": []
    },
    {
      "cell_type": "code",
      "id": "43b5dd25",
      "metadata": {
        "pycharm": {
          "name": "#%%\n"
        }
      },
      "outputs": [],
      "source": "prod_review_jp = \"\"\"\nこのパンダのぬいぐるみは娘の誕生日プレゼントで、とても気に入って、どこへ行くにも持参しています。\nぬいぐるみはとても柔らかくて超可愛く、顔の表情もとても優しいです。でも価格に比べると、\n少し小さくて、同じ価格で他の場所でもっと大きいものが買えると思います。\n配送は予定より1日早く到着したので、娘に渡す前に、自分で少し遊んでみました。\n\"\"\""
    },
    {
      "attachments": {},
      "cell_type": "markdown",
      "id": "662c9cd2",
      "metadata": {
        "pycharm": {
          "name": "#%% md\n"
        }
      },
      "source": "### 2.1 出力テキスト長の制限",
      "outputs": []
    },
    {
      "attachments": {},
      "cell_type": "markdown",
      "id": "a6d10814",
      "metadata": {
        "pycharm": {
          "name": "#%% md\n"
        }
      },
      "source": "テキスト長を最大30語に制限してみます。",
      "outputs": []
    },
    {
      "cell_type": "code",
      "execution_count": 4,
      "id": "02208fbc",
      "metadata": {
        "pycharm": {
          "name": "#%%\n"
        }
      },
      "outputs": [
        {
          "name": "stdout",
          "output_type": "stream",
          "text": [
            "Soft and cute panda plush toy loved by daughter, but a bit small for the price. Arrived early.\n"
          ]
        }
      ],
      "source": [
        "prompt = f\"\"\"\n",
        "Your task is to generate a short summary of a product \\\n",
        "review from an ecommerce site. \n",
        "\n",
        "Summarize the review below, delimited by triple \n",
        "backticks, in at most 30 words. \n",
        "\n",
        "Review: ```{prod_review}```\n",
        "\"\"\"\n",
        "\n",
        "response = get_completion(prompt)\n",
        "print(response)"
      ]
    },
    {
      "attachments": {},
      "cell_type": "markdown",
      "id": "0df0eb90",
      "metadata": {
        "pycharm": {
          "name": "#%% md\n"
        }
      },
      "source": "日本語翻訳版",
      "outputs": []
    },
    {
      "cell_type": "code",
      "id": "bf4b39f9",
      "metadata": {
        "pycharm": {
          "name": "#%%\n"
        }
      },
      "outputs": [],
      "source": "prompt = f\"\"\"\nあなたのタスクは、ECサイトの商品レビューの短い要約を作成することです。\n\n三つのバッククォートで区切られた以下のレビューテキストを、最大30語で要約してください。\n\nレビュー: ```{prod_review_jp}```\n\"\"\"\n\nresponse = get_completion(prompt)\nprint(response)"
    },
    {
      "attachments": {},
      "cell_type": "markdown",
      "id": "e9ab145e",
      "metadata": {
        "pycharm": {
          "name": "#%% md\n"
        }
      },
      "source": "### 2.2 重要な視点の設定",
      "outputs": []
    },
    {
      "attachments": {},
      "cell_type": "markdown",
      "id": "f84d0123",
      "metadata": {
        "pycharm": {
          "name": "#%% md\n"
        }
      },
      "source": "時には、異なるビジネスに対して、テキストの重点が異なることがあります。例えば、商品レビューテキストに対して、物流部門は配送時間により関心を持ち、商店は価格と商品品質により関心を持ち、プラットフォームは全体的なサービス体験により関心を持ちます。\n\nプロンプトの提示を追加することで、特定の視点に対する重点を反映できます。",
      "outputs": []
    },
    {
      "attachments": {},
      "cell_type": "markdown",
      "id": "d6f8509a",
      "metadata": {
        "pycharm": {
          "name": "#%% md\n"
        }
      },
      "source": "### 2.2.1 配送サービスに重点を置く",
      "outputs": []
    },
    {
      "cell_type": "code",
      "execution_count": 6,
      "id": "9d8a32a6",
      "metadata": {
        "pycharm": {
          "name": "#%%\n"
        }
      },
      "outputs": [
        {
          "name": "stdout",
          "output_type": "stream",
          "text": [
            "The panda plush toy arrived a day earlier than expected, but the customer felt it was a bit small for the price paid.\n"
          ]
        }
      ],
      "source": [
        "prompt = f\"\"\"\n",
        "Your task is to generate a short summary of a product \\\n",
        "review from an ecommerce site to give feedback to the \\\n",
        "Shipping deparmtment. \n",
        "\n",
        "Summarize the review below, delimited by triple \n",
        "backticks, in at most 30 words, and focusing on any aspects \\\n",
        "that mention shipping and delivery of the product. \n",
        "\n",
        "Review: ```{prod_review}```\n",
        "\"\"\"\n",
        "\n",
        "response = get_completion(prompt)\n",
        "print(response)"
      ]
    },
    {
      "attachments": {},
      "cell_type": "markdown",
      "id": "0bd4243a",
      "metadata": {
        "pycharm": {
          "name": "#%% md\n"
        }
      },
      "source": "日本語翻訳版",
      "outputs": []
    },
    {
      "cell_type": "code",
      "id": "80636c3e",
      "metadata": {
        "pycharm": {
          "name": "#%%\n"
        }
      },
      "outputs": [],
      "source": "prompt = f\"\"\"\nあなたのタスクは、ECサイトの商品レビューの短い要約を作成することです。\n\n三つのバッククォートで区切られた以下のレビューテキストを、最大30語で要約し、商品配送に焦点を当ててください。\n\nレビュー: ```{prod_review_jp}```\n\"\"\"\n\nresponse = get_completion(prompt)\nprint(response)"
    },
    {
      "attachments": {},
      "cell_type": "markdown",
      "id": "76c97fea",
      "metadata": {
        "pycharm": {
          "name": "#%% md\n"
        }
      },
      "source": "「配送が早く到着した」で始まる出力結果を見ることができ、配送効率に対する重点が反映されています。",
      "outputs": []
    },
    {
      "attachments": {},
      "cell_type": "markdown",
      "id": "83275907",
      "metadata": {
        "pycharm": {
          "name": "#%% md\n"
        }
      },
      "source": "### 2.2.2 価格と品質に重点を置く",
      "outputs": []
    },
    {
      "cell_type": "code",
      "execution_count": 9,
      "id": "767f252c",
      "metadata": {
        "pycharm": {
          "name": "#%%\n"
        }
      },
      "outputs": [
        {
          "name": "stdout",
          "output_type": "stream",
          "text": [
            "The panda plush toy is soft, cute, and loved by the recipient, but the price may be too high for its size compared to other options.\n"
          ]
        }
      ],
      "source": [
        "prompt = f\"\"\"\n",
        "Your task is to generate a short summary of a product \\\n",
        "review from an ecommerce site to give feedback to the \\\n",
        "pricing deparmtment, responsible for determining the \\\n",
        "price of the product.  \n",
        "\n",
        "Summarize the review below, delimited by triple \n",
        "backticks, in at most 30 words, and focusing on any aspects \\\n",
        "that are relevant to the price and perceived value. \n",
        "\n",
        "Review: ```{prod_review}```\n",
        "\"\"\"\n",
        "\n",
        "response = get_completion(prompt)\n",
        "print(response)"
      ]
    },
    {
      "attachments": {},
      "cell_type": "markdown",
      "id": "cf54fac4",
      "metadata": {
        "pycharm": {
          "name": "#%% md\n"
        }
      },
      "source": "日本語翻訳版",
      "outputs": []
    },
    {
      "cell_type": "code",
      "id": "728d6c57",
      "metadata": {
        "pycharm": {
          "name": "#%%\n"
        }
      },
      "outputs": [],
      "source": "prompt = f\"\"\"\nあなたのタスクは、ECサイトの商品レビューの短い要約を作成することです。\n\n三つのバッククォートで区切られた以下のレビューテキストを、最大30語で要約し、商品価格と品質に焦点を当ててください。\n\nレビュー: ```{prod_review_jp}```\n\"\"\"\n\nresponse = get_completion(prompt)\nprint(response)"
    },
    {
      "attachments": {},
      "cell_type": "markdown",
      "id": "972dbb1b",
      "metadata": {
        "pycharm": {
          "name": "#%% md\n"
        }
      },
      "source": "「品質が良い、価格が少し高い、サイズが小さい」で始まる出力結果を見ることができ、商品価格と品質に対する重点が反映されています。",
      "outputs": []
    },
    {
      "attachments": {},
      "cell_type": "markdown",
      "id": "b3ed53d2",
      "metadata": {
        "pycharm": {
          "name": "#%% md\n"
        }
      },
      "source": "### 2.3 重要情報の抽出",
      "outputs": []
    },
    {
      "attachments": {},
      "cell_type": "markdown",
      "id": "ba6f5c25",
      "metadata": {
        "pycharm": {
          "name": "#%% md\n"
        }
      },
      "source": "2.2節では、重要な視点に重点を置くプロンプトを追加することで、テキスト要約をより特定の側面に重点を置くようにしましたが、結果にはまだ他の情報も保持されていることが分かります。例えば、価格と品質の視点に重点を置いた要約でも「配送が早く到着した」の情報が保持されています。特定の視点の情報のみを抽出し、他のすべての情報をフィルタリングしたい場合は、LLMに「テキスト抽出（Extract）」を行うよう求め、「要約（Summarize）」ではなくすることができます。",
      "outputs": []
    },
    {
      "cell_type": "code",
      "execution_count": 13,
      "id": "2d60dc58",
      "metadata": {
        "pycharm": {
          "name": "#%%\n"
        }
      },
      "outputs": [
        {
          "name": "stdout",
          "output_type": "stream",
          "text": [
            "\"The product arrived a day earlier than expected.\"\n"
          ]
        }
      ],
      "source": [
        "prompt = f\"\"\"\n",
        "Your task is to extract relevant information from \\ \n",
        "a product review from an ecommerce site to give \\\n",
        "feedback to the Shipping department. \n",
        "\n",
        "From the review below, delimited by triple quotes \\\n",
        "extract the information relevant to shipping and \\ \n",
        "delivery. Limit to 30 words. \n",
        "\n",
        "Review: ```{prod_review}```\n",
        "\"\"\"\n",
        "\n",
        "response = get_completion(prompt)\n",
        "print(response)"
      ]
    },
    {
      "attachments": {},
      "cell_type": "markdown",
      "id": "0339b877",
      "metadata": {
        "pycharm": {
          "name": "#%% md\n"
        }
      },
      "source": "日本語翻訳版",
      "outputs": []
    },
    {
      "cell_type": "code",
      "id": "c845ccab",
      "metadata": {
        "pycharm": {
          "name": "#%%\n"
        }
      },
      "outputs": [],
      "source": "prompt = f\"\"\"\nあなたのタスクは、ECサイトの商品レビューから関連情報を抽出することです。\n\n以下の三つのバッククォートで区切られたレビューテキストから商品配送に関連する情報を抽出してください。最大30語まで。\n\nレビュー: ```{prod_review_jp}```\n\"\"\"\n\nresponse = get_completion(prompt)\nprint(response)"
    },
    {
      "attachments": {},
      "cell_type": "markdown",
      "id": "50498a2b",
      "metadata": {
        "pycharm": {
          "name": "#%% md\n"
        }
      },
      "source": "## 三、複数テキストの同時要約",
      "outputs": []
    },
    {
      "attachments": {},
      "cell_type": "markdown",
      "id": "a291541a",
      "metadata": {
        "pycharm": {
          "name": "#%% md\n"
        }
      },
      "source": "実際のワークフローでは、多くのレビューテキストがあることが多く、以下の例では複数のユーザー評価をリストに入れ、```for```ループを利用して、テキスト要約（Summarize）プロンプトを使用し、評価を20語未満に要約し、順番に印刷します。もちろん、実際の製品では、異なる規模のレビューテキストに対して、```for```ループを使用する以外にも、レビューの統合、分散処理などの方法で運算効率を向上させることを検討する必要があるかもしれません。大量のユーザーレビューを要約するコントロールパネルを構築して、あなたや他の人が迅速に閲覧でき、元のレビューをクリックして表示することもできます。これにより、顧客のすべての考えを効率的に把握できます。",
      "outputs": []
    },
    {
      "cell_type": "code",
      "execution_count": 5,
      "id": "ee7caa78",
      "metadata": {
        "pycharm": {
          "name": "#%%\n"
        }
      },
      "outputs": [],
      "source": [
        "review_1 = prod_review\n",
        "\n",
        "# review for a standing lamp\n",
        "review_2 = \"\"\"\n",
        "Needed a nice lamp for my bedroom, and this one \\\n",
        "had additional storage and not too high of a price \\\n",
        "point. Got it fast - arrived in 2 days. The string \\\n",
        "to the lamp broke during the transit and the company \\\n",
        "happily sent over a new one. Came within a few days \\\n",
        "as well. It was easy to put together. Then I had a \\\n",
        "missing part, so I contacted their support and they \\\n",
        "very quickly got me the missing piece! Seems to me \\\n",
        "to be a great company that cares about their customers \\\n",
        "and products.\n",
        "\"\"\"\n",
        "\n",
        "# review for an electric toothbrush\n",
        "review_3 = \"\"\"\n",
        "My dental hygienist recommended an electric toothbrush, \\\n",
        "which is why I got this. The battery life seems to be \\\n",
        "pretty impressive so far. After initial charging and \\\n",
        "leaving the charger plugged in for the first week to \\\n",
        "condition the battery, I've unplugged the charger and \\\n",
        "been using it for twice daily brushing for the last \\\n",
        "3 weeks all on the same charge. But the toothbrush head \\\n",
        "is too small. I’ve seen baby toothbrushes bigger than \\\n",
        "this one. I wish the head was bigger with different \\\n",
        "length bristles to get between teeth better because \\\n",
        "this one doesn’t.  Overall if you can get this one \\\n",
        "around the $50 mark, it's a good deal. The manufactuer's \\\n",
        "replacements heads are pretty expensive, but you can \\\n",
        "get generic ones that're more reasonably priced. This \\\n",
        "toothbrush makes me feel like I've been to the dentist \\\n",
        "every day. My teeth feel sparkly clean!\n",
        "\"\"\"\n",
        "\n",
        "# review for a blender\n",
        "review_4 = \"\"\"\n",
        "So, they still had the 17 piece system on seasonal \\\n",
        "sale for around $49 in the month of November, about \\\n",
        "half off, but for some reason (call it price gouging) \\\n",
        "around the second week of December the prices all went \\\n",
        "up to about anywhere from between $70-$89 for the same \\\n",
        "system. And the 11 piece system went up around $10 or \\\n",
        "so in price also from the earlier sale price of $29. \\\n",
        "So it looks okay, but if you look at the base, the part \\\n",
        "where the blade locks into place doesn’t look as good \\\n",
        "as in previous editions from a few years ago, but I \\\n",
        "plan to be very gentle with it (example, I crush \\\n",
        "very hard items like beans, ice, rice, etc. in the \\\n",
        "blender first then pulverize them in the serving size \\\n",
        "I want in the blender then switch to the whipping \\\n",
        "blade for a finer flour, and use the cross cutting blade \\\n",
        "first when making smoothies, then use the flat blade \\\n",
        "if I need them finer/less pulpy). Special tip when making \\\n",
        "smoothies, finely cut and freeze the fruits and \\\n",
        "vegetables (if using spinach-lightly stew soften the \\\n",
        "spinach then freeze until ready for use-and if making \\\n",
        "sorbet, use a small to medium sized food processor) \\\n",
        "that you plan to use that way you can avoid adding so \\\n",
        "much ice if at all-when making your smoothie. \\\n",
        "After about a year, the motor was making a funny noise. \\\n",
        "I called customer service but the warranty expired \\\n",
        "already, so I had to buy another one. FYI: The overall \\\n",
        "quality has gone done in these types of products, so \\\n",
        "they are kind of counting on brand recognition and \\\n",
        "consumer loyalty to maintain sales. Got it in about \\\n",
        "two days.\n",
        "\"\"\"\n",
        "\n",
        "reviews = [review_1, review_2, review_3, review_4]"
      ]
    },
    {
      "cell_type": "code",
      "outputs": [],
      "source": "review_1 = prod_review_jp\n\n# スタンドランプのレビュー\nreview_2 = \"\"\"\n寝室用の素敵なランプが欲しくて、このランプは追加の収納スペースもあり、価格もそれほど高くありませんでした。\\\n購入後すぐに届き、2日で到着しました。しかし輸送中にランプのひもが壊れてしまいましたが、会社の対応は\\\nとても良く、新しいものを送ってくれました。新しいひもも数日以内に到着しました。このランプはとても組み立てが簡単でした。その後、\\\nパーツが一つ不足していることが分かったので、カスタマーサポートに連絡したところ、すぐに不足していた部品を\\\n送ってくれました！顧客と製品を非常に大切にする素晴らしい会社だと思います。\n\"\"\"\n\n# 電動歯ブラシのレビュー\nreview_3 = \"\"\"\n歯科衛生士が電動歯ブラシを勧めてくれたので、この歯ブラシを購入しました。現在のところ、電池の\\\n持続時間はかなり印象的です。初回充電後、第一週は充電器を差し込んだままで電池の調整を行い、その後\\\n充電器を抜いて、過去3週間、毎日2回の歯磨きをすべて同じ充電で使用しています。しかし、この歯ブラシのブラシ部分は\\\n本当に小さすぎます。赤ちゃん用歯ブラシでもこれより大きいものを見たことがあります。ブラシ部分をもう少し大きくして、異なる長さの\\\n毛でより良く歯間を清掃できるようにしてほしいです。現在のものではそれができません。全体的に、約50ドルの価格で購入できれば\\\nお得だと思います。メーカー純正の替えブラシはかなり高価ですが、より合理的な価格の汎用品を購入できます。\\\nこの歯ブラシを使うと、毎日歯医者に行ったような感じになります。歯がぴかぴかに清潔になります！\n\"\"\"\n\n# ブレンダーのレビュー\nreview_4 = \"\"\"\n彼らは11月に17ピースシステムを約49ドルのセール価格で販売していました、ほぼ半額でした。しかし理由は不明ですが（価格操作と言えるかもしれません）\\\n12月第2週になると、同じシステムの価格が一気に70〜89ドルに跳ね上がりました。11ピースシステムの価格も以前のセール価格29ドルから\\\n約10ドル上昇しました。見た目はまあまあですが、ベース部分をよく見ると、ブレード固定部分が数年前のバージョンに比べて若干劣っているので、\\\nとても慎重に使用するつもりです（例えば、豆類、氷、米などの硬い食材はまずブレンダーで砕いてから、必要な分量に調整し、\\\nその後ホイップブレードで細かい粉状にし、スムージーを作る時は最初にクロスカッティングブレードを使い、より細かく/パルプを少なくしたい時は\\\nフラットブレードを使います）。スムージーを作る時のコツは、使用予定の果物や野菜を細かく切って冷凍することです（ほうれん草を使う場合は、軽く蒸して\\\n柔らかくしてから冷凍し、ソルベを作る時は小〜中サイズのフードプロセッサーを使います）。これにより氷をほとんど、あるいは全く\\\nスムージーに加える必要がなくなります。約1年後、モーターが変な音を出すようになりました。\\\nカスタマーサービスに連絡しましたが、保証期間がすでに過ぎていたので、新しいものを購入する必要がありました。参考情報：この種の製品の全体的な\\\n品質は低下しているので、彼らはブランド認知度と消費者の忠誠度に依存して売上を維持しています。2日後に届きました。\n\"\"\"\n\nreviews = [review_1, review_2, review_3, review_4]",
      "metadata": {
        "collapsed": false,
        "pycharm": {
          "name": "#%%\n"
        }
      }
    },
    {
      "cell_type": "code",
      "execution_count": 10,
      "id": "9d1aa5ac",
      "metadata": {
        "pycharm": {
          "name": "#%%\n"
        }
      },
      "outputs": [
        {
          "name": "stdout",
          "output_type": "stream",
          "text": [
            "0 Soft and cute panda plush toy loved by daughter, but a bit small for the price. Arrived early. \n",
            "\n",
            "1 Affordable lamp with storage, fast shipping, and excellent customer service. Easy to assemble and missing parts were quickly replaced. \n",
            "\n",
            "2 Good battery life, small toothbrush head, but effective cleaning. Good deal if bought around $50. \n",
            "\n",
            "3 The product was on sale for $49 in November, but the price increased to $70-$89 in December. The base doesn't look as good as previous editions, but the reviewer plans to be gentle with it. A special tip for making smoothies is to freeze the fruits and vegetables beforehand. The motor made a funny noise after a year, and the warranty had expired. Overall quality has decreased. \n",
            "\n"
          ]
        }
      ],
      "source": [
        "for i in range(len(reviews)):\n",
        "    prompt = f\"\"\"\n",
        "    Your task is to generate a short summary of a product \\\n",
        "    review from an ecommerce site. \n",
        "\n",
        "    Summarize the review below, delimited by triple \\\n",
        "    backticks in at most 20 words. \n",
        "\n",
        "    Review: ```{reviews[i]}```\n",
        "    \"\"\"\n",
        "    response = get_completion(prompt)\n",
        "    print(i, response, \"\\n\")"
      ]
    },
    {
      "cell_type": "code",
      "id": "eb878522",
      "metadata": {
        "pycharm": {
          "name": "#%%\n"
        }
      },
      "outputs": [],
      "source": "for i in range(len(reviews)):\n    prompt = f\"\"\"\n    あなたのタスクは、ECサイトの商品レビューから関連情報を抽出することです。\n\n    三つのバッククォートで区切られた以下のレビューテキストを、最大20語で要約してください。\n\n    レビューテキスト: ```{reviews[i]}```\n    \"\"\"\n    response = get_completion(prompt)\n    print(i, response, \"\\n\")"
    },
    {
      "cell_type": "markdown",
      "id": "d757b389",
      "metadata": {
        "pycharm": {
          "name": "#%% md\n"
        }
      },
      "source": "0 要約：可愛いパンダのぬいぐるみ、品質良好、配送迅速、しかし少し小さい。 \n\n1 このレビューは追加の収納スペースがある寝室用ランプに関するもので、価格が適切。顧客は会社のサービスと製品に満足を表明。 \n\n2 レビュー要約：電動歯ブラシの電池寿命は長いが、ブラシヘッドが小さすぎ、より長い毛が必要。価格合理的、使用後歯がきれいに。 \n\n3 レビュー要約：製品価格が12月に上昇、品質は以前ほど良くないが、配送速度は迅速。 ",
      "outputs": []
    }
  ],
  "metadata": {
    "kernelspec": {
      "display_name": "Python 3",
      "language": "python",
      "name": "python3"
    },
    "language_info": {
      "codemirror_mode": {
        "name": "ipython",
        "version": 3
      },
      "file_extension": ".py",
      "mimetype": "text/x-python",
      "name": "python",
      "nbconvert_exporter": "python",
      "pygments_lexer": "ipython3",
      "version": "3.8.13"
    },
    "latex_envs": {
      "LaTeX_envs_menu_present": true,
      "autoclose": false,
      "autocomplete": true,
      "bibliofile": "biblio.bib",
      "cite_by": "apalike",
      "current_citInitial": 1,
      "eqLabelWithNumbers": true,
      "eqNumInitial": 1,
      "hotkeys": {
        "equation": "Ctrl-E",
        "itemize": "Ctrl-I"
      },
      "labels_anchors": false,
      "latex_user_defs": false,
      "report_style_numbering": false,
      "user_envs_cfg": false
    },
    "toc": {
      "base_numbering": 1,
      "nav_menu": {},
      "number_sections": true,
      "sideBar": true,
      "skip_h1_title": false,
      "title_cell": "Table of Contents",
      "title_sidebar": "Contents",
      "toc_cell": false,
      "toc_position": {},
      "toc_section_display": true,
      "toc_window_display": true
    },
    "widgets": {
      "application/vnd.jupyter.widget-state+json": {
        "state": {}
      }
    }
  },
  "nbformat": 4,
  "nbformat_minor": 5
}
