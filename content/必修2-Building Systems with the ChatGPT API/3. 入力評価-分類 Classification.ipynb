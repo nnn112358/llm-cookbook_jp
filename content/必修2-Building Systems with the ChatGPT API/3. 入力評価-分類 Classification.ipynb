{
  "cells": [
    {
      "attachments": {},
      "cell_type": "markdown",
      "id": "63651c26",
      "metadata": {},
      "source": "# 第3章 入力評価——分類\n\n - [一、環境設定](#一、環境設定)\n - [二、ユーザー指示の分類](#二、ユーザー指示の分類)"
    },
    {
      "attachments": {},
      "cell_type": "markdown",
      "id": "b12f80c9",
      "metadata": {},
      "source": "本章では、入力評価タスクに焦点を当てます。これは、システムの品質と安全性を確保するために極めて重要です。\n\n異なる状況下で多くの独立した指示セットを処理する必要があるタスクでは、まずクエリタイプを分類し、それを基にどの指示を使用するかを決定することに多くの利点があります。\n\nこれは、固定カテゴリを定義し、与えられたカテゴリのタスクを処理するのに関連する指示をハードコーディングすることで実現できます。\n\n例えば、カスタマーサービスアシスタントを構築する際、まずクエリタイプを分類し、その分類に基づいてどの指示を使用するかを決定することが非常に重要になる場合があります。\n\n具体例として、ユーザーがアカウントの閉鎖を要求する場合、二次指示にはアカウント閉鎖方法に関する追加説明を加える可能性があります。一方、ユーザーが特定製品の情報を問い合わせる場合、二次指示にはより多くの製品情報を加える可能性があります。"
    },
    {
      "attachments": {},
      "cell_type": "markdown",
      "id": "87d9de1d",
      "metadata": {},
      "source": "## 一、環境設定\n前章と同様に、まずOpenAI APIを使用する環境を設定する必要があります。"
    },
    {
      "cell_type": "code",
      "execution_count": 9,
      "id": "55ee24ab",
      "metadata": {},
      "outputs": [],
      "source": [
        "import openai\n",
        "# 导入第三方库\n",
        "\n",
        "openai.api_key  = \"sk-...\"\n",
        "# 设置 API_KEY, 请替换成您自己的 API_KEY\n",
        "\n",
        "# 以下为基于环境变量的配置方法示例，这样更加安全。仅供参考，后续将不再涉及。\n",
        "# import openai\n",
        "# import os\n",
        "# OPENAI_API_KEY = os.environ.get(\"OPENAI_API_KEY\")\n",
        "# openai.api_key = OPENAI_API_KEY"
      ]
    },
    {
      "cell_type": "code",
      "execution_count": 2,
      "id": "0318b89e",
      "metadata": {},
      "outputs": [],
      "source": [
        "def get_completion_from_messages(messages, \n",
        "                                model=\"gpt-3.5-turbo\", \n",
        "                                temperature=0, \n",
        "                                max_tokens=500):\n",
        "    '''\n",
        "    封装一个访问 OpenAI GPT3.5 的函数\n",
        "\n",
        "    参数: \n",
        "    messages: 这是一个消息列表，每个消息都是一个字典，包含 role(角色）和 content(内容)。角色可以是'system'、'user' 或 'assistant’，内容是角色的消息。\n",
        "    model: 调用的模型，默认为 gpt-3.5-turbo(ChatGPT)，有内测资格的用户可以选择 gpt-4\n",
        "    temperature: 这决定模型输出的随机程度，默认为0，表示输出将非常确定。增加温度会使输出更随机。\n",
        "    max_tokens: 这决定模型输出的最大的 token 数。\n",
        "    '''\n",
        "    response = openai.ChatCompletion.create(\n",
        "        model=model,\n",
        "        messages=messages,\n",
        "        temperature=temperature, # 这决定模型输出的随机程度\n",
        "        max_tokens=max_tokens, # 这决定模型输出的最大的 token 数\n",
        "    )\n",
        "    return response.choices[0].message[\"content\"]"
      ]
    },
    {
      "attachments": {},
      "cell_type": "markdown",
      "id": "f2b55807",
      "metadata": {},
      "source": "## 二、ユーザー指示の分類"
    },
    {
      "attachments": {},
      "cell_type": "markdown",
      "id": "c3216166",
      "metadata": {},
      "source": "ここでは、システムメッセージ（system_message）をシステムのグローバルガイダンスとして使用し、`#`を区切り文字として選択しています。\n\n区切り文字は、指示や出力内の異なる部分を区別するためのツールで、モデルが各部分を識別するのに役立ち、システムが特定のタスクを実行する際の精度と効率を向上させます。\n\nこの例では、`#`を区切り文字として使用することを選択しています。\n\n`#`は独立したトークンと見なすことができるため、理想的な区切り文字です。"
    },
    {
      "cell_type": "code",
      "execution_count": 3,
      "id": "3b406ba8",
      "metadata": {},
      "outputs": [],
      "source": [
        "delimiter = \"####\""
      ]
    },
    {
      "attachments": {},
      "cell_type": "markdown",
      "id": "049d0d82",
      "metadata": {},
      "source": [
        "这是我们的 system message，我们正在以下面的方式询问模型。"
      ]
    },
    {
      "cell_type": "code",
      "execution_count": 4,
      "id": "29e2d170",
      "metadata": {},
      "outputs": [],
      "source": [
        "system_message = f\"\"\"\n",
        "You will be provided with customer service queries. \\\n",
        "The customer service query will be delimited with \\\n",
        "{delimiter} characters.\n",
        "Classify each query into a primary category \\\n",
        "and a secondary category. \n",
        "Provide your output in json format with the \\\n",
        "keys: primary and secondary.\n",
        "\n",
        "Primary categories: Billing, Technical Support, \\\n",
        "Account Management, or General Inquiry.\n",
        "\n",
        "Billing secondary categories:\n",
        "Unsubscribe or upgrade\n",
        "Add a payment method\n",
        "Explanation for charge\n",
        "Dispute a charge\n",
        "\n",
        "Technical Support secondary categories:\n",
        "General troubleshooting\n",
        "Device compatibility\n",
        "Software updates\n",
        "\n",
        "Account Management secondary categories:\n",
        "Password reset\n",
        "Update personal information\n",
        "Close account\n",
        "Account security\n",
        "\n",
        "General Inquiry secondary categories:\n",
        "Product information\n",
        "Pricing\n",
        "Feedback\n",
        "Speak to a human\n",
        "\n",
        "\"\"\""
      ]
    },
    {
      "cell_type": "code",
      "id": "61f4b474",
      "metadata": {},
      "outputs": [],
      "source": "system_message = f\"\"\"\nあなたは顧客サービスクエリを受け取ります。\n各顧客サービスクエリは{delimiter}文字で区切られています。\n各クエリを主要カテゴリと副次カテゴリに分類してください。\nprimary および secondary キーを含むJSON形式で出力を提供してください。\n\n主要カテゴリ：請求（Billing）、技術サポート（Technical Support）、アカウント管理（Account Management）、または一般問い合わせ（General Inquiry）。\n\n請求の副次カテゴリ：\n購読解除またはアップグレード（Unsubscribe or upgrade）\n支払い方法の追加（Add a payment method）\n料金の説明（Explanation for charge）\n料金の異議申し立て（Dispute a charge）\n\n技術サポートの副次カテゴリ：\n一般的なトラブルシューティング（General troubleshooting）\nデバイス互換性（Device compatibility）\nソフトウェア更新（Software updates）\n\nアカウント管理の副次カテゴリ：\nパスワードリセット（Password reset）\n個人情報の更新（Update personal information）\nアカウント閉鎖（Close account）\nアカウントセキュリティ（Account security）\n\n一般問い合わせの副次カテゴリ：\n製品情報（Product information）\n価格設定（Pricing）\nフィードバック（Feedback）\n人間との対話（Speak to a human）\n\n\"\"\""
    },
    {
      "attachments": {},
      "cell_type": "markdown",
      "id": "e6a932ce",
      "metadata": {},
      "source": [
        "现在我们来看一个用户消息（user message）的例子。"
      ]
    },
    {
      "cell_type": "code",
      "execution_count": 26,
      "id": "2b2df0bf",
      "metadata": {},
      "outputs": [],
      "source": [
        "user_message = f\"\"\"\\ \n",
        "I want you to delete my profile and all of my user data\"\"\""
      ]
    },
    {
      "cell_type": "code",
      "id": "3b8070bf",
      "metadata": {},
      "outputs": [],
      "source": "user_message = f\"\"\"\\ \n私のプロフィールとすべてのユーザーデータを削除してください。\"\"\""
    },
    {
      "attachments": {},
      "cell_type": "markdown",
      "id": "3a2c1cf0",
      "metadata": {},
      "source": "このメッセージをメッセージリストとしてフォーマットし、システムメッセージとユーザーメッセージを「####」で区切ります。\n\n人間として考えてみましょう。この文「私にプロフィールを削除してもらいたい」はどのカテゴリに属するでしょうか？\n\nこの文は「アカウント管理」、または「アカウント閉鎖」に属するように見えます。"
    },
    {
      "cell_type": "code",
      "execution_count": 7,
      "id": "6e2b9049",
      "metadata": {},
      "outputs": [],
      "source": [
        "messages =  [  \n",
        "{'role':'system', \n",
        " 'content': system_message},    \n",
        "{'role':'user', \n",
        " 'content': f\"{delimiter}{user_message}{delimiter}\"},  \n",
        "]"
      ]
    },
    {
      "attachments": {},
      "cell_type": "markdown",
      "id": "4b295207",
      "metadata": {},
      "source": [
        "让我们看看模型是如何思考的\n",
        "\n",
        "模型的分类是将\"Account Management\"作为\"primary\"，\"Close account\"作为\"secondary\"。\n",
        "\n",
        "请求结构化输出（如 JSON）的好处是，您可以轻松地将其读入某个对象中，例如 Python 中的字典。如果您使用其他语言，也可以转换为其他对象，然后输入到后续步骤中。"
      ]
    },
    {
      "cell_type": "code",
      "execution_count": 10,
      "id": "77328388",
      "metadata": {},
      "outputs": [
        {
          "name": "stdout",
          "output_type": "stream",
          "text": [
            "{\n",
            "    \"primary\": \"账户管理\",\n",
            "    \"secondary\": \"关闭账户\"\n",
            "}\n"
          ]
        }
      ],
      "source": [
        "response = get_completion_from_messages(messages)\n",
        "print(response)"
      ]
    },
    {
      "attachments": {},
      "cell_type": "markdown",
      "id": "2f6b353b",
      "metadata": {},
      "source": [
        "这是另一个用户消息: \"告诉我更多关于你们的平板电视的信息\"\n",
        "\n",
        "我们运用相同的消息列表来获取模型的响应，然后打印出来。\n",
        "\n",
        "这里返回了另一个分类结果，并且看起来应该是正确的。"
      ]
    },
    {
      "cell_type": "code",
      "execution_count": 31,
      "id": "edf8fbe9",
      "metadata": {},
      "outputs": [
        {
          "name": "stdout",
          "output_type": "stream",
          "text": [
            "{\n",
            "  \"primary\": \"General Inquiry\",\n",
            "  \"secondary\": \"Product information\"\n",
            "}\n"
          ]
        }
      ],
      "source": [
        "user_message = f\"\"\"\\\n",
        "Tell me more about your flat screen tvs\"\"\"\n",
        "messages =  [  \n",
        "{'role':'system', \n",
        " 'content': system_message},    \n",
        "{'role':'user', \n",
        " 'content': f\"{delimiter}{user_message}{delimiter}\"},  \n",
        "] \n",
        "response = get_completion_from_messages(messages)\n",
        "print(response)"
      ]
    },
    {
      "cell_type": "code",
      "execution_count": 12,
      "id": "f1d738e1",
      "metadata": {},
      "outputs": [
        {
          "name": "stdout",
          "output_type": "stream",
          "text": [
            "以下是针对平板电脑的一般咨询：\n",
            "\n",
            "{\n",
            "  \"primary\": \"General Inquiry\",\n",
            "  \"secondary\": \"Product information\"\n",
            "}\n",
            "\n",
            "如果您有任何特定的问题或需要更详细的信息，请告诉我，我会尽力回答。\n"
          ]
        }
      ],
      "source": [
        "user_message = f\"\"\"\\\n",
        "告诉我更多有关你们的平板电脑的信息\"\"\"\n",
        "messages =  [  \n",
        "{'role':'system', \n",
        " 'content': system_message},    \n",
        "{'role':'user', \n",
        " 'content': f\"{delimiter}{user_message}{delimiter}\"},  \n",
        "] \n",
        "response = get_completion_from_messages(messages)\n",
        "print(response)"
      ]
    },
    {
      "attachments": {},
      "cell_type": "markdown",
      "id": "8f87f68d",
      "metadata": {},
      "source": [
        "因此，根据客户咨询的分类，我们现在可以提供一套更具体的指令来处理后续步骤。\n",
        "\n",
        "在这种情况下，我们可能会添加关于电视的额外信息，而在其他情况下，我们可能希望提供关闭账户的链接或类似的内容。\n",
        "\n",
        "在接下来的章节中，我们将进一步了解处理输入的不同方法\n",
        "\n",
        "在下一章中，我们将探讨更多关于评估输入的方法，特别是如何确保用户以负责任的方式使用系统。"
      ]
    }
  ],
  "metadata": {
    "kernelspec": {
      "display_name": "Python 3 (ipykernel)",
      "language": "python",
      "name": "python3"
    },
    "language_info": {
      "codemirror_mode": {
        "name": "ipython",
        "version": 3
      },
      "file_extension": ".py",
      "mimetype": "text/x-python",
      "name": "python",
      "nbconvert_exporter": "python",
      "pygments_lexer": "ipython3",
      "version": "3.10.11"
    },
    "widgets": {
      "application/vnd.jupyter.widget-state+json": {
        "state": {}
      }
    }
  },
  "nbformat": 4,
  "nbformat_minor": 5
}
