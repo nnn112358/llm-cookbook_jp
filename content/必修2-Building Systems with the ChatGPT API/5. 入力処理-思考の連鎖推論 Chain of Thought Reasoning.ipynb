{
  "cells": [
    {
      "attachments": {},
      "cell_type": "markdown",
      "metadata": {},
      "source": "# 第5章 入力処理：思考の連鎖推論\n\n - [一、環境設定](#一、環境設定)\n - [二、思考の連鎖プロンプト](#二、思考の連鎖プロンプト)\n - [三、内面独白（Inner monologue）](#三、内面独白（Inner-monologue）)"
    },
    {
      "attachments": {},
      "cell_type": "markdown",
      "metadata": {},
      "source": "本章では、入力の処理、つまり一連のステップを通じて有用な出力を生成することに焦点を当てます。\n\n時として、モデルは特定の質問に答える前に詳細な推論を行う必要があります。以前のコースを受講された方は、このような例を多く見てきたことでしょう。時として、モデルは急いで結論を出しすぎて推論プロセスでエラーを起こすことがあります。そのため、クエリを再構成して、モデルに最終的な答えを出す前に一連の関連する推論ステップを提供するよう求めることで、より長い時間をかけてより深く問題について考えることができます。\n\n通常、モデルに問題を段階的に推論するよう求めるこの戦略を、思考の連鎖推論（chain of thought reasoning）と呼びます。"
    },
    {
      "attachments": {},
      "cell_type": "markdown",
      "metadata": {},
      "source": "## 一、環境設定"
    },
    {
      "cell_type": "markdown",
      "metadata": {},
      "source": "前章と同様に、まずOpenAI APIを使用する環境を設定する必要があります"
    },
    {
      "cell_type": "code",
      "metadata": {},
      "outputs": [],
      "source": "import openai\n# サードパーティライブラリのインポート\n\nopenai.api_key  = \"sk-...\"\n# API_KEYの設定、ご自身のAPI_KEYに置き換えてください\n\n# 以下は環境変数を使用した設定方法の例です。より安全です。参考までに、以降は触れません。\n# import openai\n# import os\n# OPENAI_API_KEY = os.environ.get(\"OPENAI_API_KEY\")\n# openai.api_key = OPENAI_API_KEY"
    },
    {
      "cell_type": "code",
      "metadata": {},
      "outputs": [],
      "source": "def get_completion_from_messages(messages, \n                                 model=\"gpt-3.5-turbo\", \n                                 temperature=0, \n                                 max_tokens=500):\n    '''\n    OpenAI GPT3.5にアクセスする関数をカプセル化\n\n    パラメータ: \n    messages: これはメッセージのリストで、各メッセージはrole（役割）とcontent（内容）を含む辞書です。役割は'system'、'user'、または'assistant'になります。内容は役割のメッセージです。\n    model: 呼び出すモデル、デフォルトはgpt-3.5-turbo（ChatGPT）、内部テスト資格を持つユーザーはgpt-4を選択できます\n    temperature: これはモデル出力のランダム性を決定します。デフォルトは0で、出力が非常に確定的になります。温度を上げると出力がよりランダムになります。\n    max_tokens: これはモデル出力の最大トークン数を決定します。\n    '''\n    response = openai.ChatCompletion.create(\n        model=model,\n        messages=messages,\n        temperature=temperature, # モデル出力のランダム性を決定\n        max_tokens=max_tokens, # モデル出力の最大トークン数を決定\n    )\n    return response.choices[0].message[\"content\"]"
    },
    {
      "attachments": {},
      "cell_type": "markdown",
      "metadata": {},
      "source": "## 二、思考の連鎖プロンプト"
    },
    {
      "attachments": {},
      "cell_type": "markdown",
      "metadata": {},
      "source": "ここでは、モデルに結論を出す前に答えを段階的に推論するよう求めます。"
    },
    {
      "cell_type": "code",
      "execution_count": 3,
      "metadata": {},
      "outputs": [],
      "source": [
        "delimiter = \"####\"\n",
        "system_message = f\"\"\"\n",
        "Follow these steps to answer the customer queries.\n",
        "The customer query will be delimited with four hashtags,\\\n",
        "i.e. {delimiter}. \n",
        "\n",
        "Step 1:{delimiter} First decide whether the user is \\\n",
        "asking a question about a specific product or products. \\\n",
        "Product cateogry doesn't count. \n",
        "\n",
        "Step 2:{delimiter} If the user is asking about \\\n",
        "specific products, identify whether \\\n",
        "the products are in the following list.\n",
        "All available products: \n",
        "1. Product: TechPro Ultrabook\n",
        "   Category: Computers and Laptops\n",
        "   Brand: TechPro\n",
        "   Model Number: TP-UB100\n",
        "   Warranty: 1 year\n",
        "   Rating: 4.5\n",
        "   Features: 13.3-inch display, 8GB RAM, 256GB SSD, Intel Core i5 processor\n",
        "   Description: A sleek and lightweight ultrabook for everyday use.\n",
        "   Price: $799.99\n",
        "\n",
        "2. Product: BlueWave Gaming Laptop\n",
        "   Category: Computers and Laptops\n",
        "   Brand: BlueWave\n",
        "   Model Number: BW-GL200\n",
        "   Warranty: 2 years\n",
        "   Rating: 4.7\n",
        "   Features: 15.6-inch display, 16GB RAM, 512GB SSD, NVIDIA GeForce RTX 3060\n",
        "   Description: A high-performance gaming laptop for an immersive experience.\n",
        "   Price: $1199.99\n",
        "\n",
        "3. Product: PowerLite Convertible\n",
        "   Category: Computers and Laptops\n",
        "   Brand: PowerLite\n",
        "   Model Number: PL-CV300\n",
        "   Warranty: 1 year\n",
        "   Rating: 4.3\n",
        "   Features: 14-inch touchscreen, 8GB RAM, 256GB SSD, 360-degree hinge\n",
        "   Description: A versatile convertible laptop with a responsive touchscreen.\n",
        "   Price: $699.99\n",
        "\n",
        "4. Product: TechPro Desktop\n",
        "   Category: Computers and Laptops\n",
        "   Brand: TechPro\n",
        "   Model Number: TP-DT500\n",
        "   Warranty: 1 year\n",
        "   Rating: 4.4\n",
        "   Features: Intel Core i7 processor, 16GB RAM, 1TB HDD, NVIDIA GeForce GTX 1660\n",
        "   Description: A powerful desktop computer for work and play.\n",
        "   Price: $999.99\n",
        "\n",
        "5. Product: BlueWave Chromebook\n",
        "   Category: Computers and Laptops\n",
        "   Brand: BlueWave\n",
        "   Model Number: BW-CB100\n",
        "   Warranty: 1 year\n",
        "   Rating: 4.1\n",
        "   Features: 11.6-inch display, 4GB RAM, 32GB eMMC, Chrome OS\n",
        "   Description: A compact and affordable Chromebook for everyday tasks.\n",
        "   Price: $249.99\n",
        "\n",
        "Step 3:{delimiter} If the message contains products \\\n",
        "in the list above, list any assumptions that the \\\n",
        "user is making in their \\\n",
        "message e.g. that Laptop X is bigger than \\\n",
        "Laptop Y, or that Laptop Z has a 2 year warranty.\n",
        "\n",
        "Step 4:{delimiter}: If the user made any assumptions, \\\n",
        "figure out whether the assumption is true based on your \\\n",
        "product information. \n",
        "\n",
        "Step 5:{delimiter}: First, politely correct the \\\n",
        "customer's incorrect assumptions if applicable. \\\n",
        "Only mention or reference products in the list of \\\n",
        "5 available products, as these are the only 5 \\\n",
        "products that the store sells. \\\n",
        "Answer the customer in a friendly tone.\n",
        "\n",
        "Use the following format:\n",
        "Step 1:{delimiter} <step 1 reasoning>\n",
        "Step 2:{delimiter} <step 2 reasoning>\n",
        "Step 3:{delimiter} <step 3 reasoning>\n",
        "Step 4:{delimiter} <step 4 reasoning>\n",
        "Response to user:{delimiter} <response to customer>\n",
        "\n",
        "Make sure to include {delimiter} to separate every step.\n",
        "\"\"\""
      ]
    },
    {
      "cell_type": "code",
      "metadata": {},
      "outputs": [],
      "source": "delimiter = \"####\"\nsystem_message = f\"\"\"\nお客様の問い合わせに答えるには、以下の手順に従ってください。お客様の問い合わせは4つのシャープ記号（#）で区切られます。つまり {delimiter} です。\n\nステップ 1:{delimiter} まず、ユーザーが特定の製品または製品について質問しているかどうかを判断します。製品カテゴリーは含まれません。\n\nステップ 2:{delimiter} ユーザーが特定の製品について質問している場合、その製品が以下のリストにあるかどうかを確認してください。利用可能なすべての製品：\n\n製品：TechPro ウルトラブック\nカテゴリー：コンピューターとノートパソコン\nブランド：TechPro\n型番：TP-UB100\n保証期間：1年\n評価：4.5\n特徴：13.3インチディスプレイ、8GB RAM、256GB SSD、Intel Core i5プロセッサー\n説明：日常使いに適したスタイリッシュで軽量なウルトラブック。\n価格：$799.99\n\n製品：BlueWave ゲーミングノートパソコン\nカテゴリー：コンピューターとノートパソコン\nブランド：BlueWave\n型番：BW-GL200\n保証期間：2年\n評価：4.7\n特徴：15.6インチディスプレイ、16GB RAM、512GB SSD、NVIDIA GeForce RTX 3060\n説明：没入感のある体験を提供する高性能ゲーミングノートパソコン。\n価格：$1199.99\n\n製品：PowerLite コンバーチブル\nカテゴリー：コンピューターとノートパソコン\nブランド：PowerLite\n型番：PL-CV300\n保証期間：1年\n評価：4.3\n特徴：14インチタッチスクリーン、8GB RAM、256GB SSD、360度ヒンジ\n説明：レスポンシブなタッチスクリーンを備えた多用途コンバーチブルノートパソコン。\n価格：$699.99\n\n製品：TechPro デスクトップ\nカテゴリー：コンピューターとノートパソコン\nブランド：TechPro\n型番：TP-DT500\n保証期間：1年\n評価：4.4\n特徴：Intel Core i7プロセッサー、16GB RAM、1TB HDD、NVIDIA GeForce GTX 1660\n説明：仕事と遊びに適した強力なデスクトップコンピューター。\n価格：$999.99\n\n製品：BlueWave Chromebook\nカテゴリー：コンピューターとノートパソコン\nブランド：BlueWave\n型番：BW-CB100\n保証期間：1年\n評価：4.1\n特徴：11.6インチディスプレイ、4GB RAM、32GB eMMC、Chrome OS\n説明：日常的なタスクに適したコンパクトで手頃な価格のChromebook。\n価格：$249.99\n\nステップ 3:{delimiter} メッセージに上記のリストの製品が含まれている場合、ユーザーがメッセージで行っている仮定をリストアップしてください。例えば、ノートパソコンXがノートパソコンYより大きい、またはノートパソコンZが2年保証があるなど。\n\nステップ 4:{delimiter} ユーザーが仮定を行った場合、製品情報に基づいてその仮定が正しいかどうかを判断してください。\n\nステップ 5:{delimiter} まず、該当する場合はお客様の誤った仮定を丁寧に訂正してください。利用可能な5つの製品リストにある製品のみを言及または参照してください。これらは店舗が販売する唯一の5つの製品だからです。友好的な口調でお客様に答えてください。\n\n以下の形式を使用してください：\nステップ 1:{delimiter} <ステップ1の推論>\nステップ 2:{delimiter} <ステップ2の推論>\nステップ 3:{delimiter} <ステップ3の推論>\nステップ 4:{delimiter} <ステップ4の推論>\nお客様への返信:{delimiter} <お客様への返信内容>\n\n各ステップを区切るために必ず {delimiter} を含めてください。\n\"\"\""
    },
    {
      "cell_type": "code",
      "execution_count": null,
      "metadata": {},
      "outputs": [
        {
          "name": "stdout",
          "output_type": "stream",
          "text": [
            "Step 1:#### The user is asking a question about two specific products, the BlueWave Chromebook and the TechPro Desktop.\n",
            "Step 2:#### The prices of the two products are as follows:\n",
            "- BlueWave Chromebook: $249.99\n",
            "- TechPro Desktop: $999.99\n",
            "Step 3:#### The user is assuming that the BlueWave Chromebook is more expensive than the TechPro Desktop.\n",
            "Step 4:#### The assumption is incorrect. The TechPro Desktop is actually more expensive than the BlueWave Chromebook.\n",
            "Response to user:#### The BlueWave Chromebook is actually less expensive than the TechPro Desktop. The BlueWave Chromebook costs $249.99 while the TechPro Desktop costs $999.99.\n"
          ]
        }
      ],
      "source": [
        "user_message = f\"\"\"\n",
        "by how much is the BlueWave Chromebook more expensive \\\n",
        "than the TechPro Desktop\"\"\"\n",
        "\n",
        "messages =  [  \n",
        "{'role':'system', \n",
        " 'content': system_message},    \n",
        "{'role':'user', \n",
        " 'content': f\"{delimiter}{user_message}{delimiter}\"},  \n",
        "] \n",
        "\n",
        "response = get_completion_from_messages(messages)\n",
        "print(response)"
      ]
    },
    {
      "cell_type": "code",
      "metadata": {},
      "outputs": [],
      "source": "user_message = f\"\"\"BlueWave ChromebookはTechProデスクトップよりどれくらい高いですか？\"\"\"\n\nmessages =  [  \n{'role':'system', \n 'content': system_message},    \n{'role':'user', \n 'content': f\"{delimiter}{user_message}{delimiter}\"},  \n] \n\nresponse = get_completion_from_messages(messages)\nprint(response)"
    },
    {
      "cell_type": "code",
      "execution_count": null,
      "metadata": {},
      "outputs": [
        {
          "name": "stdout",
          "output_type": "stream",
          "text": [
            "Step 1:#### The user is asking if the store sells TVs.\n",
            "Step 2:#### The list of available products does not include any TVs.\n",
            "Response to user:#### I'm sorry, but we do not sell TVs at this store. Our available products include computers and laptops.\n"
          ]
        }
      ],
      "source": [
        "user_message = f\"\"\"\n",
        "do you sell tvs\"\"\"\n",
        "messages =  [  \n",
        "{'role':'system', \n",
        " 'content': system_message},    \n",
        "{'role':'user', \n",
        " 'content': f\"{delimiter}{user_message}{delimiter}\"},  \n",
        "] \n",
        "response = get_completion_from_messages(messages)\n",
        "print(response)"
      ]
    },
    {
      "cell_type": "code",
      "metadata": {},
      "outputs": [],
      "source": "user_message = f\"\"\"テレビは売っていますか\"\"\"\nmessages =  [  \n{'role':'system', \n 'content': system_message},    \n{'role':'user', \n 'content': f\"{delimiter}{user_message}{delimiter}\"},  \n] \nresponse = get_completion_from_messages(messages)\nprint(response)"
    },
    {
      "attachments": {},
      "cell_type": "markdown",
      "metadata": {},
      "source": "## 三、内面独白（Inner monologue）"
    },
    {
      "attachments": {},
      "cell_type": "markdown",
      "metadata": {},
      "source": "特定のアプリケーションでは、モデルの推論プロセスをユーザーと共有することが適切でない場合があります。例えば、チュートリングアプリケーションでは、学生に自分で問題を解決するよう促したいかもしれませんが、学生の解決策に対するモデルの推論プロセスが答えを漏らしてしまう可能性があります。\n\n内面独白は、この状況を緩和するために使用できる戦略であり、モデルの推論プロセスを隠す高度な方法です。\n\n内面独白のアイデアは、モデルに答えを明かさない方法で部分的な出力を生成させることで、ユーザーが完全な推論プロセスを見ることができないようにすることです。目標は、これらの部分を構造化された形式で隠し、それらを渡すことを容易にすることです。その後、ユーザーに出力を提示する前に出力を変換し、部分的な出力のみが表示されるようにします。"
    },
    {
      "cell_type": "code",
      "metadata": {},
      "outputs": [],
      "source": "try:\n    final_response = response.split(delimiter)[-1].strip()\nexcept Exception as e:\n    final_response = \"申し訳ございません。現在問題が発生しています。別の質問をお試しください。\"\n    \nprint(final_response)"
    },
    {
      "cell_type": "markdown",
      "metadata": {},
      "source": "次の章では、複雑なタスクを処理するための新しい戦略を学びます。つまり、1つのプロンプトでタスク全体を完了しようとするのではなく、複雑なタスクを一連のより単純なサブタスクに分解することです。"
    }
  ],
  "metadata": {
    "kernelspec": {
      "display_name": "Python 3",
      "language": "python",
      "name": "python3"
    },
    "language_info": {
      "codemirror_mode": {
        "name": "ipython",
        "version": 3
      },
      "file_extension": ".py",
      "mimetype": "text/x-python",
      "name": "python",
      "nbconvert_exporter": "python",
      "pygments_lexer": "ipython3",
      "version": "3.10.11"
    },
    "orig_nbformat": 4,
    "widgets": {
      "application/vnd.jupyter.widget-state+json": {
        "state": {}
      }
    }
  },
  "nbformat": 4,
  "nbformat_minor": 2
}
