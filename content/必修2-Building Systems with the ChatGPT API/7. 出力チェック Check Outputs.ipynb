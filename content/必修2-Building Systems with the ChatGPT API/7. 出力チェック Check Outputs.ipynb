{
  "cells": [
    {
      "attachments": {},
      "cell_type": "markdown",
      "id": "f99b8a44",
      "metadata": {},
      "source": "# 第7章 出力チェック\n\n - [一、環境設定](#一、環境設定)\n - [二、出力の有害なコンテンツの可能性をチェック](#二、出力の有害なコンテンツの可能性をチェック)\n - [三、出力結果が提供された製品情報と一致するかチェック](#三、出力結果が提供された製品情報と一致するかチェック)"
    },
    {
      "cell_type": "markdown",
      "id": "d8822242",
      "metadata": {},
      "source": "本章では、システムが生成した出力をどのようにチェックするかに焦点を当てます。ユーザーに出力を表示する前に、出力の品質、関連性、安全性をチェックすることは、自動化プロセスやその他のシナリオにおいて提供される応答が非常に重要であることを確保するために重要です。モデレーションAPIを使用して出力を評価する方法を学び、出力を表示する前にモデルの品質評価を向上させるための追加のプロンプトの使用方法を探ります。"
    },
    {
      "attachments": {},
      "cell_type": "markdown",
      "id": "ca0fc5fc",
      "metadata": {},
      "source": "## 一、環境設定"
    },
    {
      "cell_type": "markdown",
      "id": "8e804bed",
      "metadata": {},
      "source": "前章と同様に、まずOpenAI APIを使用する環境を設定する必要があります"
    },
    {
      "cell_type": "code",
      "id": "5daec1c7",
      "metadata": {},
      "outputs": [],
      "source": "import openai\n# サードパーティライブラリのインポート\n\nopenai.api_key  = \"sk-...\"\n# API_KEYの設定、ご自身のAPI_KEYに置き換えてください\n\n# 以下は環境変数を使用した設定方法の例です。より安全です。参考までに、以降は触れません。\n# import openai\n# import os\n# OPENAI_API_KEY = os.environ.get(\"OPENAI_API_KEY\")\n# openai.api_key = OPENAI_API_KEY"
    },
    {
      "cell_type": "code",
      "id": "9c40b32d",
      "metadata": {},
      "outputs": [],
      "source": "def get_completion_from_messages(messages, \n                                 model=\"gpt-3.5-turbo\", \n                                 temperature=0, \n                                 max_tokens=500):\n    '''\n    OpenAI GPT3.5にアクセスする関数をカプセル化\n\n    パラメータ: \n    messages: これはメッセージのリストで、各メッセージはrole（役割）とcontent（内容）を含む辞書です。役割は'system'、'user'、または'assistant'になります。内容は役割のメッセージです。\n    model: 呼び出すモデル、デフォルトはgpt-3.5-turbo（ChatGPT）、内部テスト資格を持つユーザーはgpt-4を選択できます\n    temperature: これはモデル出力のランダム性を決定します。デフォルトは0で、出力が非常に確定的になります。温度を上げると出力がよりランダムになります。\n    max_tokens: これはモデル出力の最大トークン数を決定します。\n    '''\n    response = openai.ChatCompletion.create(\n        model=model,\n        messages=messages,\n        temperature=temperature, # モデル出力のランダム性を決定\n        max_tokens=max_tokens, # モデル出力の最大トークン数を決定\n    )\n    return response.choices[0].message[\"content\"]"
    },
    {
      "attachments": {},
      "cell_type": "markdown",
      "id": "59f69c2e",
      "metadata": {},
      "source": "## 二、出力の有害なコンテンツの可能性をチェック\n主にModeration APIの使用"
    },
    {
      "cell_type": "code",
      "execution_count": null,
      "id": "943f5396",
      "metadata": {},
      "outputs": [
        {
          "name": "stdout",
          "output_type": "stream",
          "text": [
            "{\n",
            "  \"categories\": {\n",
            "    \"hate\": false,\n",
            "    \"hate/threatening\": false,\n",
            "    \"self-harm\": false,\n",
            "    \"sexual\": false,\n",
            "    \"sexual/minors\": false,\n",
            "    \"violence\": false,\n",
            "    \"violence/graphic\": false\n",
            "  },\n",
            "  \"category_scores\": {\n",
            "    \"hate\": 2.6680607e-06,\n",
            "    \"hate/threatening\": 1.2194433e-08,\n",
            "    \"self-harm\": 8.294434e-07,\n",
            "    \"sexual\": 3.41087e-05,\n",
            "    \"sexual/minors\": 1.5462567e-07,\n",
            "    \"violence\": 6.3285606e-06,\n",
            "    \"violence/graphic\": 2.9102332e-06\n",
            "  },\n",
            "  \"flagged\": false\n",
            "}\n"
          ]
        }
      ],
      "source": [
        "final_response_to_customer = f\"\"\"\n",
        "The SmartX ProPhone has a 6.1-inch display, 128GB storage, \\\n",
        "12MP dual camera, and 5G. The FotoSnap DSLR Camera \\\n",
        "has a 24.2MP sensor, 1080p video, 3-inch LCD, and \\\n",
        "interchangeable lenses. We have a variety of TVs, including \\\n",
        "the CineView 4K TV with a 55-inch display, 4K resolution, \\\n",
        "HDR, and smart TV features. We also have the SoundMax \\\n",
        "Home Theater system with 5.1 channel, 1000W output, wireless \\\n",
        "subwoofer, and Bluetooth. Do you have any specific questions \\\n",
        "about these products or any other products we offer?\n",
        "\"\"\"\n",
        "# Moderation 是 OpenAI 的内容审核函数，用于检测这段内容的危害含量\n",
        "\n",
        "response = openai.Moderation.create(\n",
        "    input=final_response_to_customer\n",
        ")\n",
        "moderation_output = response[\"results\"][0]\n",
        "print(moderation_output)"
      ]
    },
    {
      "cell_type": "code",
      "id": "943f5396",
      "metadata": {},
      "outputs": [],
      "source": "final_response_to_customer = f\"\"\"\nSmartX ProPhoneは6.1インチディスプレイ、128GBストレージ、\\\n12MPデュアルカメラ、5Gを搭載しています。FotoSnap デジタル一眼レフカメラは\\\n24.2MPセンサー、1080pビデオ、3インチLCD、\\\n交換可能レンズを備えています。当店では、CineView 4Kテレビなど\\\n55インチディスプレイ、4K解像度、HDR、\\\nスマートTV機能を備えたさまざまなテレビを取り扱っています。\\\nまた、5.1チャンネル、1000W出力、ワイヤレス\\\nサブウーファー、Bluetoothを備えたSoundMax\\\nホームシアターシステムもございます。これらの製品や\\\n当店が提供するその他の製品について具体的な質問はございますか？\n\"\"\"\n\nresponse = openai.Moderation.create(\n    input=final_response_to_customer\n)\nmoderation_output = response[\"results\"][0]\nprint(moderation_output)"
    },
    {
      "cell_type": "markdown",
      "id": "b1f1399a",
      "metadata": {},
      "source": "ご覧のとおり、この出力はフラグ付けされておらず、すべてのカテゴリーで非常に低いスコアを獲得しており、提供された応答が合理的であることを示しています。\n\n全体的に、出力をチェックすることも非常に重要です。例えば、敏感な対象者向けのチャットボットを作成している場合、より低い閾値を使用して出力をフラグ付けできます。一般的に、モデレーション出力がコンテンツがフラグ付けされていることを示している場合、代替の回答で応答したり、新しい応答を生成したりするなど、適切なアクションを実行できます。\n\nモデルが改善されるにつれて、有害な出力を返す可能性もますます低くなっていることに注意してください。\n\n出力をチェックする別の方法は、モデル自体に生成した結果が満足できるものか、定義した基準に合致するかを尋ねることです。これは、生成された出力を入力の一部としてモデルに提供し、出力の品質を評価するよう要求することで実現できます。このような操作をさまざまな方法で行うことができます。例を見てみましょう。"
    },
    {
      "attachments": {},
      "cell_type": "markdown",
      "id": "f57f8dad",
      "metadata": {},
      "source": "## 三、出力結果が提供された製品情報と一致するかチェック"
    },
    {
      "cell_type": "code",
      "execution_count": 7,
      "id": "552e3d8c",
      "metadata": {},
      "outputs": [
        {
          "name": "stdout",
          "output_type": "stream",
          "text": [
            "Y\n"
          ]
        }
      ],
      "source": [
        "# 这是一段电子产品相关的信息\n",
        "system_message = f\"\"\"\n",
        "You are an assistant that evaluates whether \\\n",
        "customer service agent responses sufficiently \\\n",
        "answer customer questions, and also validates that \\\n",
        "all the facts the assistant cites from the product \\\n",
        "information are correct.\n",
        "The product information and user and customer \\\n",
        "service agent messages will be delimited by \\\n",
        "3 backticks, i.e. ```.\n",
        "Respond with a Y or N character, with no punctuation:\n",
        "Y - if the output sufficiently answers the question \\\n",
        "AND the response correctly uses product information\n",
        "N - otherwise\n",
        "\n",
        "Output a single letter only.\n",
        "\"\"\"\n",
        "\n",
        "#这是顾客的提问\n",
        "customer_message = f\"\"\"\n",
        "tell me about the smartx pro phone and \\\n",
        "the fotosnap camera, the dslr one. \\\n",
        "Also tell me about your tvs\"\"\"\n",
        "product_information = \"\"\"{ \"name\": \"SmartX ProPhone\", \"category\": \"Smartphones and Accessories\", \"brand\": \"SmartX\", \"model_number\": \"SX-PP10\", \"warranty\": \"1 year\", \"rating\": 4.6, \"features\": [ \"6.1-inch display\", \"128GB storage\", \"12MP dual camera\", \"5G\" ], \"description\": \"A powerful smartphone with advanced camera features.\", \"price\": 899.99 } { \"name\": \"FotoSnap DSLR Camera\", \"category\": \"Cameras and Camcorders\", \"brand\": \"FotoSnap\", \"model_number\": \"FS-DSLR200\", \"warranty\": \"1 year\", \"rating\": 4.7, \"features\": [ \"24.2MP sensor\", \"1080p video\", \"3-inch LCD\", \"Interchangeable lenses\" ], \"description\": \"Capture stunning photos and videos with this versatile DSLR camera.\", \"price\": 599.99 } { \"name\": \"CineView 4K TV\", \"category\": \"Televisions and Home Theater Systems\", \"brand\": \"CineView\", \"model_number\": \"CV-4K55\", \"warranty\": \"2 years\", \"rating\": 4.8, \"features\": [ \"55-inch display\", \"4K resolution\", \"HDR\", \"Smart TV\" ], \"description\": \"A stunning 4K TV with vibrant colors and smart features.\", \"price\": 599.99 } { \"name\": \"SoundMax Home Theater\", \"category\": \"Televisions and Home Theater Systems\", \"brand\": \"SoundMax\", \"model_number\": \"SM-HT100\", \"warranty\": \"1 year\", \"rating\": 4.4, \"features\": [ \"5.1 channel\", \"1000W output\", \"Wireless subwoofer\", \"Bluetooth\" ], \"description\": \"A powerful home theater system for an immersive audio experience.\", \"price\": 399.99 } { \"name\": \"CineView 8K TV\", \"category\": \"Televisions and Home Theater Systems\", \"brand\": \"CineView\", \"model_number\": \"CV-8K65\", \"warranty\": \"2 years\", \"rating\": 4.9, \"features\": [ \"65-inch display\", \"8K resolution\", \"HDR\", \"Smart TV\" ], \"description\": \"Experience the future of television with this stunning 8K TV.\", \"price\": 2999.99 } { \"name\": \"SoundMax Soundbar\", \"category\": \"Televisions and Home Theater Systems\", \"brand\": \"SoundMax\", \"model_number\": \"SM-SB50\", \"warranty\": \"1 year\", \"rating\": 4.3, \"features\": [ \"2.1 channel\", \"300W output\", \"Wireless subwoofer\", \"Bluetooth\" ], \"description\": \"Upgrade your TV's audio with this sleek and powerful soundbar.\", \"price\": 199.99 } { \"name\": \"CineView OLED TV\", \"category\": \"Televisions and Home Theater Systems\", \"brand\": \"CineView\", \"model_number\": \"CV-OLED55\", \"warranty\": \"2 years\", \"rating\": 4.7, \"features\": [ \"55-inch display\", \"4K resolution\", \"HDR\", \"Smart TV\" ], \"description\": \"Experience true blacks and vibrant colors with this OLED TV.\", \"price\": 1499.99 }\"\"\"\n",
        "\n",
        "q_a_pair = f\"\"\"\n",
        "Customer message: ```{customer_message}```\n",
        "Product information: ```{product_information}```\n",
        "Agent response: ```{final_response_to_customer}```\n",
        "\n",
        "Does the response use the retrieved information correctly?\n",
        "Does the response sufficiently answer the question?\n",
        "\n",
        "Output Y or N\n",
        "\"\"\"\n",
        "#判断相关性\n",
        "messages = [\n",
        "    {'role': 'system', 'content': system_message},\n",
        "    {'role': 'user', 'content': q_a_pair}\n",
        "]\n",
        "\n",
        "response = get_completion_from_messages(messages, max_tokens=1)\n",
        "print(response)"
      ]
    },
    {
      "cell_type": "code",
      "id": "552e3d8c",
      "metadata": {},
      "outputs": [],
      "source": "# これは電子製品に関する情報です\nsystem_message = f\"\"\"\nあなたは、カスタマーサービス担当者の回答が顧客の質問に十分に答えているかを評価し、\\\nアシスタントが製品情報から引用したすべての事実が正確であることを検証するアシスタントです。\n製品情報、ユーザー、カスタマーサービス担当者のメッセージは\\\n3つのバッククォート（```）で区切られます。\n句読点なしでYまたはNの文字で応答してください：\nY - 出力が質問に十分に答えており、かつ応答が製品情報を正しく使用している場合\nN - その他の場合\n\n単一の文字のみを出力してください。\n\"\"\"\n\n# これは顧客の質問です\ncustomer_message = f\"\"\"\nSmartX ProPhoneとFotoSnapカメラ、デジタル一眼レフについて教えてください。\nまた、テレビについても教えてください。\n\"\"\"\nproduct_information = \"\"\"{ \"name\": \"SmartX ProPhone\", \"category\": \"Smartphones and Accessories\", \"brand\": \"SmartX\", \"model_number\": \"SX-PP10\", \"warranty\": \"1 year\", \"rating\": 4.6, \"features\": [ \"6.1-inch display\", \"128GB storage\", \"12MP dual camera\", \"5G\" ], \"description\": \"A powerful smartphone with advanced camera features.\", \"price\": 899.99 } { \"name\": \"FotoSnap DSLR Camera\", \"category\": \"Cameras and Camcorders\", \"brand\": \"FotoSnap\", \"model_number\": \"FS-DSLR200\", \"warranty\": \"1 year\", \"rating\": 4.7, \"features\": [ \"24.2MP sensor\", \"1080p video\", \"3-inch LCD\", \"Interchangeable lenses\" ], \"description\": \"Capture stunning photos and videos with this versatile DSLR camera.\", \"price\": 599.99 } { \"name\": \"CineView 4K TV\", \"category\": \"Televisions and Home Theater Systems\", \"brand\": \"CineView\", \"model_number\": \"CV-4K55\", \"warranty\": \"2 years\", \"rating\": 4.8, \"features\": [ \"55-inch display\", \"4K resolution\", \"HDR\", \"Smart TV\" ], \"description\": \"A stunning 4K TV with vibrant colors and smart features.\", \"price\": 599.99 } { \"name\": \"SoundMax Home Theater\", \"category\": \"Televisions and Home Theater Systems\", \"brand\": \"SoundMax\", \"model_number\": \"SM-HT100\", \"warranty\": \"1 year\", \"rating\": 4.4, \"features\": [ \"5.1 channel\", \"1000W output\", \"Wireless subwoofer\", \"Bluetooth\" ], \"description\": \"A powerful home theater system for an immersive audio experience.\", \"price\": 399.99 } { \"name\": \"CineView 8K TV\", \"category\": \"Televisions and Home Theater Systems\", \"brand\": \"CineView\", \"model_number\": \"CV-8K65\", \"warranty\": \"2 years\", \"rating\": 4.9, \"features\": [ \"65-inch display\", \"8K resolution\", \"HDR\", \"Smart TV\" ], \"description\": \"Experience the future of television with this stunning 8K TV.\", \"price\": 2999.99 } { \"name\": \"SoundMax Soundbar\", \"category\": \"Televisions and Home Theater Systems\", \"brand\": \"SoundMax\", \"model_number\": \"SM-SB50\", \"warranty\": \"1 year\", \"rating\": 4.3, \"features\": [ \"2.1 channel\", \"300W output\", \"Wireless subwoofer\", \"Bluetooth\" ], \"description\": \"Upgrade your TV's audio with this sleek and powerful soundbar.\", \"price\": 199.99 } { \"name\": \"CineView OLED TV\", \"category\": \"Televisions and Home Theater Systems\", \"brand\": \"CineView\", \"model_number\": \"CV-OLED55\", \"warranty\": \"2 years\", \"rating\": 4.7, \"features\": [ \"55-inch display\", \"4K resolution\", \"HDR\", \"Smart TV\" ], \"description\": \"Experience true blacks and vibrant colors with this OLED TV.\", \"price\": 1499.99 }\"\"\"\n\nq_a_pair = f\"\"\"\n顧客のメッセージ: ```{customer_message}```\n製品情報: ```{product_information}```\n担当者の回答: ```{final_response_to_customer}```\n\n回答は取得した情報を正しく使用していますか？\n回答は質問に十分に答えていますか？\n\nYまたはNを出力\n\"\"\"\n# 関連性を判断\nmessages = [\n    {'role': 'system', 'content': system_message},\n    {'role': 'user', 'content': q_a_pair}\n]\n\nresponse = get_completion_from_messages(messages, max_tokens=1)\nprint(response)"
    },
    {
      "cell_type": "code",
      "execution_count": 6,
      "id": "afb1b82f",
      "metadata": {},
      "outputs": [
        {
          "name": "stdout",
          "output_type": "stream",
          "text": [
            "N\n"
          ]
        }
      ],
      "source": [
        "another_response = \"life is like a box of chocolates\"\n",
        "q_a_pair = f\"\"\"\n",
        "Customer message: ```{customer_message}```\n",
        "Product information: ```{product_information}```\n",
        "Agent response: ```{another_response}```\n",
        "\n",
        "Does the response use the retrieved information correctly?\n",
        "Does the response sufficiently answer the question?\n",
        "\n",
        "Output Y or N\n",
        "\"\"\"\n",
        "messages = [\n",
        "    {'role': 'system', 'content': system_message},\n",
        "    {'role': 'user', 'content': q_a_pair}\n",
        "]\n",
        "\n",
        "response = get_completion_from_messages(messages)\n",
        "print(response)"
      ]
    },
    {
      "cell_type": "code",
      "id": "afb1b82f",
      "metadata": {},
      "outputs": [],
      "source": "another_response = \"人生はチョコレートの箱のようなものです\"\nq_a_pair = f\"\"\"\n顧客のメッセージ: ```{customer_message}```\n製品情報: ```{product_information}```\n担当者の回答: ```{another_response}```\n\n回答は取得した情報を正しく使用していますか？\n回答は質問に十分に答えていますか？\n\nYまたはNを出力\n\"\"\"\nmessages = [\n    {'role': 'system', 'content': system_message},\n    {'role': 'user', 'content': q_a_pair}\n]\n\nresponse = get_completion_from_messages(messages)\nprint(response)"
    },
    {
      "cell_type": "markdown",
      "id": "51dd8979",
      "metadata": {},
      "source": "ご覧のとおり、モデルは生成された出力の品質についてフィードバックを提供できます。このフィードバックを利用して、出力をユーザーに表示するか、新しい応答を生成するかを決定できます。各ユーザークエリに対して複数のモデル応答を生成し、最良の応答を選択してユーザーに表示することも試せます。したがって、さまざまな試行方法があります。\n\n全体的に、モデレーションAPIを使用して出力をチェックすることは良い習慣です。しかし、ほとんどの場合、特にGPT-4のようなより高度なモデルを使用している場合、これは不要かもしれません。\n\n実際、本番環境でこのような手法を採用している人をあまり見かけません。これにより、追加の呼び出しを待つ必要があり、追加のトークンも必要になるため、システムの遅延とコストが増加します。アプリケーションや製品のエラー率が0.0000001%程度の場合、この方法を試すことができるかもしれません。しかし、全体的に、実際のアプリケーションではこの方法を採用することをお勧めしません。\n\n次の章では、入力評価部分、処理部分、出力チェックで学んだすべての内容を統合して、エンドツーエンドのシステムを構築します。"
    }
  ],
  "metadata": {
    "kernelspec": {
      "display_name": "Python 3.9.6 64-bit",
      "language": "python",
      "name": "python3"
    },
    "language_info": {
      "codemirror_mode": {
        "name": "ipython",
        "version": 3
      },
      "file_extension": ".py",
      "mimetype": "text/x-python",
      "name": "python",
      "nbconvert_exporter": "python",
      "pygments_lexer": "ipython3",
      "version": "3.9.6"
    },
    "vscode": {
      "interpreter": {
        "hash": "31f2aee4e71d21fbe5cf8b01ff0e069b9275f58929596ceb00d14d90e3e16cd6"
      }
    },
    "widgets": {
      "application/vnd.jupyter.widget-state+json": {
        "state": {}
      }
    }
  },
  "nbformat": 4,
  "nbformat_minor": 5
}
